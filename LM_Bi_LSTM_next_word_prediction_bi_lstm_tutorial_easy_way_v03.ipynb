{
  "metadata": {
    "kernelspec": {
      "language": "python",
      "display_name": "Python 3",
      "name": "python3"
    },
    "language_info": {
      "pygments_lexer": "ipython3",
      "nbconvert_exporter": "python",
      "version": "3.6.4",
      "file_extension": ".py",
      "codemirror_mode": {
        "name": "ipython",
        "version": 3
      },
      "name": "python",
      "mimetype": "text/x-python"
    },
    "colab": {
      "name": "LM_Bi-LSTM_next-word-prediction-bi-lstm-tutorial-easy-way_v03",
      "provenance": [],
      "collapsed_sections": [
        "wbrKBzxdFsv6",
        "7boWcRWrFsv7"
      ],
      "toc_visible": true
    }
  },
  "nbformat_minor": 0,
  "nbformat": 4,
  "cells": [
    {
      "cell_type": "markdown",
      "source": [
        "### Table Content\n",
        "------------------\n",
        "\n",
        "- [Introduction](#intro)\n",
        "- [Import libraries and packages](#ilp)\n",
        "- [Dataset Information](#di)\n",
        "- [Separate 'Title' field and preprocess it](#preprocess)\n",
        "    - [Removing unwanted charaters and words](#remv)\n",
        "    - [Tokenization and word_index (vocabulary) ](#token)\n",
        "    - [Convert titles into sequences and Make n_gram model](#ngram)\n",
        "    - [Make all titles with same length and padding them](#pad)\n",
        "- [Preprare features (X) and labels (Y)](#xy)\n",
        "- [Architechture of Bidirectional LSTM neural network](#blstm)\n",
        "- [Train Bi-LSTM neural network](#train)\n",
        "- [Plotting accuracy and loss graph](#acc)\n",
        "- [Predict new title (Testing)](#new)\n",
        "- [SentencePiece](#SentencePiece)\n",
        "\n",
        "----------------\n",
        "\n",
        "\n"
      ],
      "metadata": {
        "id": "ZFsxZZoPFsv1"
      }
    },
    {
      "cell_type": "markdown",
      "source": [
        "# Original version from Kaggle"
      ],
      "metadata": {
        "id": "hTqyC2xjSPx2"
      }
    },
    {
      "cell_type": "markdown",
      "source": [
        "<a name=\"intro\"></a>\n",
        "\n",
        "## Introduction\n",
        "\n",
        "**Next Word Prediction (also called Language Modeling) is the task of predicting what word comes next. It is one of the fundamental tasks of NLP.**\n",
        "\n",
        "Image reference: https://medium.com/@antonio.lopardo/the-basics-of-language-modeling-1c8832f21079\n",
        "\n",
        "![gg.png](attachment:426089b0-5844-4928-a797-40e0015c1a93.png)\n",
        "\n",
        "#### Application Language Modelling \n",
        "\n",
        "**1) Mobile keyboard text recommandation**\n",
        "\n",
        "![fff.jpg](attachment:0cd813a1-ea03-40b9-86d7-0585d994a36e.jpg)\n",
        "\n",
        "**2) Whenever we search for something on any search engine, we get many suggestions and,  as we type new words in it, we get better recommendations according to our searching context. So, how will it happen??? **\n",
        "\n",
        "![Screenshot (21).png](attachment:72ee772e-4ef9-4e79-a364-5dcf8f558e4a.png)\n",
        "\n",
        "\n",
        "It is poosible through natural language processing (NLP) technique. Here, we will use NLP and try to make a prediction model using Bidirectional LSTM (Long short-term memory) model that will predict next words of sentence.\n",
        " "
      ],
      "metadata": {
        "id": "wbrKBzxdFsv6"
      }
    },
    {
      "cell_type": "markdown",
      "source": [
        "<a name=\"ilp\"></a>\n",
        "## Import necessary libraries and packages "
      ],
      "metadata": {
        "id": "7boWcRWrFsv7"
      }
    },
    {
      "cell_type": "code",
      "source": [
        "import pandas as pd\n",
        "import os\n",
        "import numpy as np\n",
        "\n",
        "import tensorflow as tf\n",
        "from tensorflow.keras.preprocessing.sequence import pad_sequences\n",
        "from tensorflow.keras.layers import Embedding, LSTM, Dense, Bidirectional\n",
        "from tensorflow.keras.preprocessing.text import Tokenizer\n",
        "from tensorflow.keras.models import Sequential\n",
        "from tensorflow.keras.optimizers import Adam"
      ],
      "metadata": {
        "_uuid": "8f2839f25d086af736a60e9eeb907d3b93b6e0e5",
        "_cell_guid": "b1076dfc-b9ad-4769-8c92-a6c4dae69d19",
        "execution": {
          "iopub.status.busy": "2022-05-31T14:50:40.994879Z",
          "iopub.execute_input": "2022-05-31T14:50:40.995524Z",
          "iopub.status.idle": "2022-05-31T14:50:41.001389Z",
          "shell.execute_reply.started": "2022-05-31T14:50:40.995477Z",
          "shell.execute_reply": "2022-05-31T14:50:41.000588Z"
        },
        "trusted": true,
        "id": "ELyFqMUVFsv8"
      },
      "execution_count": null,
      "outputs": []
    },
    {
      "cell_type": "markdown",
      "source": [
        "<a name=\"di\"></a>\n",
        "## Dataset information\n",
        "\n",
        "**Import Medium-articles-dataset:**\n",
        "\n",
        "This dataset contains information about randomly chosen medium articles published in 2019 from these 7 publications:\n",
        "\n",
        "- Towards Data Science\n",
        "- UX Collective\n",
        "- The Startup\n",
        "- The Writing Cooperative\n",
        "- Data Driven Investor\n",
        "- Better Humans\n",
        "- Better Marketing\n"
      ],
      "metadata": {
        "id": "ssJlBuZCFsv9"
      }
    },
    {
      "cell_type": "markdown",
      "source": [
        "### Kaggle version"
      ],
      "metadata": {
        "id": "HJe8bei2Vzq4"
      }
    },
    {
      "cell_type": "code",
      "source": [
        "medium_data = pd.read_csv('../input/medium-articles-dataset/medium_data.csv')\n",
        "medium_data.head()"
      ],
      "metadata": {
        "execution": {
          "iopub.status.busy": "2022-05-31T14:50:49.294905Z",
          "iopub.execute_input": "2022-05-31T14:50:49.295657Z",
          "iopub.status.idle": "2022-05-31T14:50:49.349944Z",
          "shell.execute_reply.started": "2022-05-31T14:50:49.295603Z",
          "shell.execute_reply": "2022-05-31T14:50:49.348937Z"
        },
        "trusted": true,
        "id": "5jLHjy7mFsv-"
      },
      "execution_count": null,
      "outputs": []
    },
    {
      "cell_type": "markdown",
      "source": [
        "### Colab version"
      ],
      "metadata": {
        "id": "3kzSKuMFV3Fm"
      }
    },
    {
      "cell_type": "code",
      "source": [
        "data_link = \"https://drive.google.com/file/d/1vQbu1XmenVtNYSvqZmiwAo2jzFWZCsI8/view?usp=sharing\"\n",
        "file_id= data_link.split('/')[-2]\n",
        "fn = 'medium_data.csv'\n",
        "!wget --no-check-certificate 'https://docs.google.com/uc?export=download&id=''$file_id' -O '$fn'\n"
      ],
      "metadata": {
        "colab": {
          "base_uri": "https://localhost:8080/"
        },
        "outputId": "55a5fc4f-e4de-481f-cd5a-8227973007ef",
        "id": "skR8XxSeV-M7"
      },
      "execution_count": null,
      "outputs": [
        {
          "output_type": "stream",
          "name": "stdout",
          "text": [
            "--2022-06-02 16:02:47--  https://docs.google.com/uc?export=download&id=1vQbu1XmenVtNYSvqZmiwAo2jzFWZCsI8\n",
            "Resolving docs.google.com (docs.google.com)... 142.251.107.113, 142.251.107.139, 142.251.107.101, ...\n",
            "Connecting to docs.google.com (docs.google.com)|142.251.107.113|:443... connected.\n",
            "HTTP request sent, awaiting response... 303 See Other\n",
            "Location: https://doc-14-b0-docs.googleusercontent.com/docs/securesc/ha0ro937gcuc7l7deffksulhg5h7mbp1/ad7or30hcd35ars5dndq0oo1g5s2dbpl/1654185750000/17304979608001708681/*/1vQbu1XmenVtNYSvqZmiwAo2jzFWZCsI8?e=download [following]\n",
            "Warning: wildcards not supported in HTTP.\n",
            "--2022-06-02 16:02:48--  https://doc-14-b0-docs.googleusercontent.com/docs/securesc/ha0ro937gcuc7l7deffksulhg5h7mbp1/ad7or30hcd35ars5dndq0oo1g5s2dbpl/1654185750000/17304979608001708681/*/1vQbu1XmenVtNYSvqZmiwAo2jzFWZCsI8?e=download\n",
            "Resolving doc-14-b0-docs.googleusercontent.com (doc-14-b0-docs.googleusercontent.com)... 173.194.216.132, 2607:f8b0:400c:c12::84\n",
            "Connecting to doc-14-b0-docs.googleusercontent.com (doc-14-b0-docs.googleusercontent.com)|173.194.216.132|:443... connected.\n",
            "HTTP request sent, awaiting response... 200 OK\n",
            "Length: 1428382 (1.4M) [text/csv]\n",
            "Saving to: ‘medium_data.csv’\n",
            "\n",
            "medium_data.csv     100%[===================>]   1.36M  --.-KB/s    in 0.009s  \n",
            "\n",
            "2022-06-02 16:02:48 (156 MB/s) - ‘medium_data.csv’ saved [1428382/1428382]\n",
            "\n"
          ]
        }
      ]
    },
    {
      "cell_type": "code",
      "source": [
        "#medium_data = pd.read_csv('../input/medium-articles-dataset/medium_data.csv') # Kaggle\n",
        "medium_data = pd.read_csv('medium_data.csv') # Colab\n",
        "medium_data.head()"
      ],
      "metadata": {
        "execution": {
          "iopub.status.busy": "2022-05-31T14:50:49.294905Z",
          "iopub.execute_input": "2022-05-31T14:50:49.295657Z",
          "iopub.status.idle": "2022-05-31T14:50:49.349944Z",
          "shell.execute_reply.started": "2022-05-31T14:50:49.295603Z",
          "shell.execute_reply": "2022-05-31T14:50:49.348937Z"
        },
        "trusted": true,
        "colab": {
          "base_uri": "https://localhost:8080/",
          "height": 513
        },
        "outputId": "7e4577b7-2137-41ef-f053-64e1da9a9073",
        "id": "1qoZbxqIV-M8"
      },
      "execution_count": null,
      "outputs": [
        {
          "output_type": "execute_result",
          "data": {
            "text/plain": [
              "   id                                                url  \\\n",
              "0   1  https://towardsdatascience.com/a-beginners-gui...   \n",
              "1   2  https://towardsdatascience.com/hands-on-graph-...   \n",
              "2   3  https://towardsdatascience.com/how-to-use-ggpl...   \n",
              "3   4  https://towardsdatascience.com/databricks-how-...   \n",
              "4   5  https://towardsdatascience.com/a-step-by-step-...   \n",
              "\n",
              "                                               title  \\\n",
              "0  A Beginner’s Guide to Word Embedding with Gens...   \n",
              "1  Hands-on Graph Neural Networks with PyTorch & ...   \n",
              "2                       How to Use ggplot2 in Python   \n",
              "3  Databricks: How to Save Files in CSV on Your L...   \n",
              "4  A Step-by-Step Implementation of Gradient Desc...   \n",
              "\n",
              "                                  subtitle   image  claps responses  \\\n",
              "0                                      NaN   1.png    850         8   \n",
              "1                                      NaN   2.png   1100        11   \n",
              "2         A Grammar of Graphics for Python   3.png    767         1   \n",
              "3  When I work on Python projects dealing…  4.jpeg    354         0   \n",
              "4          One example of building neural…  5.jpeg    211         3   \n",
              "\n",
              "   reading_time           publication        date  \n",
              "0             8  Towards Data Science  2019-05-30  \n",
              "1             9  Towards Data Science  2019-05-30  \n",
              "2             5  Towards Data Science  2019-05-30  \n",
              "3             4  Towards Data Science  2019-05-30  \n",
              "4             4  Towards Data Science  2019-05-30  "
            ],
            "text/html": [
              "\n",
              "  <div id=\"df-62575cef-9180-469d-91e6-988901a99240\">\n",
              "    <div class=\"colab-df-container\">\n",
              "      <div>\n",
              "<style scoped>\n",
              "    .dataframe tbody tr th:only-of-type {\n",
              "        vertical-align: middle;\n",
              "    }\n",
              "\n",
              "    .dataframe tbody tr th {\n",
              "        vertical-align: top;\n",
              "    }\n",
              "\n",
              "    .dataframe thead th {\n",
              "        text-align: right;\n",
              "    }\n",
              "</style>\n",
              "<table border=\"1\" class=\"dataframe\">\n",
              "  <thead>\n",
              "    <tr style=\"text-align: right;\">\n",
              "      <th></th>\n",
              "      <th>id</th>\n",
              "      <th>url</th>\n",
              "      <th>title</th>\n",
              "      <th>subtitle</th>\n",
              "      <th>image</th>\n",
              "      <th>claps</th>\n",
              "      <th>responses</th>\n",
              "      <th>reading_time</th>\n",
              "      <th>publication</th>\n",
              "      <th>date</th>\n",
              "    </tr>\n",
              "  </thead>\n",
              "  <tbody>\n",
              "    <tr>\n",
              "      <th>0</th>\n",
              "      <td>1</td>\n",
              "      <td>https://towardsdatascience.com/a-beginners-gui...</td>\n",
              "      <td>A Beginner’s Guide to Word Embedding with Gens...</td>\n",
              "      <td>NaN</td>\n",
              "      <td>1.png</td>\n",
              "      <td>850</td>\n",
              "      <td>8</td>\n",
              "      <td>8</td>\n",
              "      <td>Towards Data Science</td>\n",
              "      <td>2019-05-30</td>\n",
              "    </tr>\n",
              "    <tr>\n",
              "      <th>1</th>\n",
              "      <td>2</td>\n",
              "      <td>https://towardsdatascience.com/hands-on-graph-...</td>\n",
              "      <td>Hands-on Graph Neural Networks with PyTorch &amp; ...</td>\n",
              "      <td>NaN</td>\n",
              "      <td>2.png</td>\n",
              "      <td>1100</td>\n",
              "      <td>11</td>\n",
              "      <td>9</td>\n",
              "      <td>Towards Data Science</td>\n",
              "      <td>2019-05-30</td>\n",
              "    </tr>\n",
              "    <tr>\n",
              "      <th>2</th>\n",
              "      <td>3</td>\n",
              "      <td>https://towardsdatascience.com/how-to-use-ggpl...</td>\n",
              "      <td>How to Use ggplot2 in Python</td>\n",
              "      <td>A Grammar of Graphics for Python</td>\n",
              "      <td>3.png</td>\n",
              "      <td>767</td>\n",
              "      <td>1</td>\n",
              "      <td>5</td>\n",
              "      <td>Towards Data Science</td>\n",
              "      <td>2019-05-30</td>\n",
              "    </tr>\n",
              "    <tr>\n",
              "      <th>3</th>\n",
              "      <td>4</td>\n",
              "      <td>https://towardsdatascience.com/databricks-how-...</td>\n",
              "      <td>Databricks: How to Save Files in CSV on Your L...</td>\n",
              "      <td>When I work on Python projects dealing…</td>\n",
              "      <td>4.jpeg</td>\n",
              "      <td>354</td>\n",
              "      <td>0</td>\n",
              "      <td>4</td>\n",
              "      <td>Towards Data Science</td>\n",
              "      <td>2019-05-30</td>\n",
              "    </tr>\n",
              "    <tr>\n",
              "      <th>4</th>\n",
              "      <td>5</td>\n",
              "      <td>https://towardsdatascience.com/a-step-by-step-...</td>\n",
              "      <td>A Step-by-Step Implementation of Gradient Desc...</td>\n",
              "      <td>One example of building neural…</td>\n",
              "      <td>5.jpeg</td>\n",
              "      <td>211</td>\n",
              "      <td>3</td>\n",
              "      <td>4</td>\n",
              "      <td>Towards Data Science</td>\n",
              "      <td>2019-05-30</td>\n",
              "    </tr>\n",
              "  </tbody>\n",
              "</table>\n",
              "</div>\n",
              "      <button class=\"colab-df-convert\" onclick=\"convertToInteractive('df-62575cef-9180-469d-91e6-988901a99240')\"\n",
              "              title=\"Convert this dataframe to an interactive table.\"\n",
              "              style=\"display:none;\">\n",
              "        \n",
              "  <svg xmlns=\"http://www.w3.org/2000/svg\" height=\"24px\"viewBox=\"0 0 24 24\"\n",
              "       width=\"24px\">\n",
              "    <path d=\"M0 0h24v24H0V0z\" fill=\"none\"/>\n",
              "    <path d=\"M18.56 5.44l.94 2.06.94-2.06 2.06-.94-2.06-.94-.94-2.06-.94 2.06-2.06.94zm-11 1L8.5 8.5l.94-2.06 2.06-.94-2.06-.94L8.5 2.5l-.94 2.06-2.06.94zm10 10l.94 2.06.94-2.06 2.06-.94-2.06-.94-.94-2.06-.94 2.06-2.06.94z\"/><path d=\"M17.41 7.96l-1.37-1.37c-.4-.4-.92-.59-1.43-.59-.52 0-1.04.2-1.43.59L10.3 9.45l-7.72 7.72c-.78.78-.78 2.05 0 2.83L4 21.41c.39.39.9.59 1.41.59.51 0 1.02-.2 1.41-.59l7.78-7.78 2.81-2.81c.8-.78.8-2.07 0-2.86zM5.41 20L4 18.59l7.72-7.72 1.47 1.35L5.41 20z\"/>\n",
              "  </svg>\n",
              "      </button>\n",
              "      \n",
              "  <style>\n",
              "    .colab-df-container {\n",
              "      display:flex;\n",
              "      flex-wrap:wrap;\n",
              "      gap: 12px;\n",
              "    }\n",
              "\n",
              "    .colab-df-convert {\n",
              "      background-color: #E8F0FE;\n",
              "      border: none;\n",
              "      border-radius: 50%;\n",
              "      cursor: pointer;\n",
              "      display: none;\n",
              "      fill: #1967D2;\n",
              "      height: 32px;\n",
              "      padding: 0 0 0 0;\n",
              "      width: 32px;\n",
              "    }\n",
              "\n",
              "    .colab-df-convert:hover {\n",
              "      background-color: #E2EBFA;\n",
              "      box-shadow: 0px 1px 2px rgba(60, 64, 67, 0.3), 0px 1px 3px 1px rgba(60, 64, 67, 0.15);\n",
              "      fill: #174EA6;\n",
              "    }\n",
              "\n",
              "    [theme=dark] .colab-df-convert {\n",
              "      background-color: #3B4455;\n",
              "      fill: #D2E3FC;\n",
              "    }\n",
              "\n",
              "    [theme=dark] .colab-df-convert:hover {\n",
              "      background-color: #434B5C;\n",
              "      box-shadow: 0px 1px 3px 1px rgba(0, 0, 0, 0.15);\n",
              "      filter: drop-shadow(0px 1px 2px rgba(0, 0, 0, 0.3));\n",
              "      fill: #FFFFFF;\n",
              "    }\n",
              "  </style>\n",
              "\n",
              "      <script>\n",
              "        const buttonEl =\n",
              "          document.querySelector('#df-62575cef-9180-469d-91e6-988901a99240 button.colab-df-convert');\n",
              "        buttonEl.style.display =\n",
              "          google.colab.kernel.accessAllowed ? 'block' : 'none';\n",
              "\n",
              "        async function convertToInteractive(key) {\n",
              "          const element = document.querySelector('#df-62575cef-9180-469d-91e6-988901a99240');\n",
              "          const dataTable =\n",
              "            await google.colab.kernel.invokeFunction('convertToInteractive',\n",
              "                                                     [key], {});\n",
              "          if (!dataTable) return;\n",
              "\n",
              "          const docLinkHtml = 'Like what you see? Visit the ' +\n",
              "            '<a target=\"_blank\" href=https://colab.research.google.com/notebooks/data_table.ipynb>data table notebook</a>'\n",
              "            + ' to learn more about interactive tables.';\n",
              "          element.innerHTML = '';\n",
              "          dataTable['output_type'] = 'display_data';\n",
              "          await google.colab.output.renderOutput(dataTable, element);\n",
              "          const docLink = document.createElement('div');\n",
              "          docLink.innerHTML = docLinkHtml;\n",
              "          element.appendChild(docLink);\n",
              "        }\n",
              "      </script>\n",
              "    </div>\n",
              "  </div>\n",
              "  "
            ]
          },
          "metadata": {},
          "execution_count": 72
        }
      ]
    },
    {
      "cell_type": "markdown",
      "source": [
        ""
      ],
      "metadata": {
        "id": "ZEOGqL9cFsv-"
      }
    },
    {
      "cell_type": "markdown",
      "source": [
        "Here, we have a **10 different fields and 6508 records** but we will only use **title field** for predicting next word. "
      ],
      "metadata": {
        "id": "TSo7bHMoFsv_"
      }
    },
    {
      "cell_type": "code",
      "source": [
        "print(\"Number of records: \", medium_data.shape[0])\n",
        "print(\"Number of fields: \", medium_data.shape[1])"
      ],
      "metadata": {
        "execution": {
          "iopub.status.busy": "2022-05-31T14:50:56.183676Z",
          "iopub.execute_input": "2022-05-31T14:50:56.184344Z",
          "iopub.status.idle": "2022-05-31T14:50:56.190764Z",
          "shell.execute_reply.started": "2022-05-31T14:50:56.184269Z",
          "shell.execute_reply": "2022-05-31T14:50:56.189837Z"
        },
        "trusted": true,
        "colab": {
          "base_uri": "https://localhost:8080/"
        },
        "id": "-q-cPisEFswA",
        "outputId": "67218bc1-ffe3-406e-84a3-d26938a854cb"
      },
      "execution_count": null,
      "outputs": [
        {
          "output_type": "stream",
          "name": "stdout",
          "text": [
            "Number of records:  6508\n",
            "Number of fields:  10\n"
          ]
        }
      ]
    },
    {
      "cell_type": "markdown",
      "source": [
        "<a name=\"preprocess\"></a>\n",
        "### Display titles of various articles  and preprocess them"
      ],
      "metadata": {
        "id": "fopWrMZdFswB"
      }
    },
    {
      "cell_type": "code",
      "source": [
        "medium_data['title']"
      ],
      "metadata": {
        "execution": {
          "iopub.status.busy": "2022-05-31T14:51:00.178467Z",
          "iopub.execute_input": "2022-05-31T14:51:00.179173Z",
          "iopub.status.idle": "2022-05-31T14:51:00.18703Z",
          "shell.execute_reply.started": "2022-05-31T14:51:00.179137Z",
          "shell.execute_reply": "2022-05-31T14:51:00.186059Z"
        },
        "trusted": true,
        "colab": {
          "base_uri": "https://localhost:8080/"
        },
        "id": "KDrbzRrSFswB",
        "outputId": "b9eab52c-b5a7-4114-8555-01025d2fcdcb"
      },
      "execution_count": null,
      "outputs": [
        {
          "output_type": "execute_result",
          "data": {
            "text/plain": [
              "0       A Beginner’s Guide to Word Embedding with Gens...\n",
              "1       Hands-on Graph Neural Networks with PyTorch & ...\n",
              "2                            How to Use ggplot2 in Python\n",
              "3       Databricks: How to Save Files in CSV on Your L...\n",
              "4       A Step-by-Step Implementation of Gradient Desc...\n",
              "                              ...                        \n",
              "6503    “We” vs “I” — How Should You Talk About Yourse...\n",
              "6504                     How Donald Trump Markets Himself\n",
              "6505        Content and Marketing Beyond Mass Consumption\n",
              "6506    5 Questions All Copywriters Should Ask Clients...\n",
              "6507               How To Write a Good Business Blog Post\n",
              "Name: title, Length: 6508, dtype: object"
            ]
          },
          "metadata": {},
          "execution_count": 74
        }
      ]
    },
    {
      "cell_type": "markdown",
      "source": [
        "<a name=\"remv\"></a>\n",
        "#### Removing unwanted characters and words in titles\n",
        "\n",
        "Looking at titles, we can see there are some of unwanted characters and words in it which can not be useful for us to predict infact it might decrease our model accuracy so we have to remove it."
      ],
      "metadata": {
        "id": "XNWFPx4FFswC"
      }
    },
    {
      "cell_type": "code",
      "source": [
        "medium_data['title'] = medium_data['title'].apply(lambda x: x.replace(u'\\xa0',u' '))\n",
        "medium_data['title'] = medium_data['title'].apply(lambda x: x.replace('\\u200a',' '))"
      ],
      "metadata": {
        "execution": {
          "iopub.status.busy": "2022-05-31T14:51:04.377174Z",
          "iopub.execute_input": "2022-05-31T14:51:04.377769Z",
          "iopub.status.idle": "2022-05-31T14:51:04.38892Z",
          "shell.execute_reply.started": "2022-05-31T14:51:04.377717Z",
          "shell.execute_reply": "2022-05-31T14:51:04.387839Z"
        },
        "trusted": true,
        "id": "oRqqDZ9tFswC"
      },
      "execution_count": null,
      "outputs": []
    },
    {
      "cell_type": "markdown",
      "source": [
        "<a name=\"token\"></a>\n",
        "#### Tokenzation\n",
        "\n",
        "Tokenzaion is the process in which we provide an unique id to all the words and make a word index or we can say vocabulary."
      ],
      "metadata": {
        "id": "ul-WrmJUFswC"
      }
    },
    {
      "cell_type": "markdown",
      "source": [
        ""
      ],
      "metadata": {
        "id": "rlMRPE0nFswD"
      }
    },
    {
      "cell_type": "code",
      "source": [
        "tokenizer = Tokenizer(oov_token='<oov>') # For those words which are not found in word_index\n",
        "tokenizer.fit_on_texts(medium_data['title'])\n",
        "total_words = len(tokenizer.word_index) + 1\n",
        "\n",
        "print(\"Total number of words: \", total_words)\n",
        "print(\"Word: ID\")\n",
        "print(\"------------\")\n",
        "print(\"<oov>: \", tokenizer.word_index['<oov>'])\n",
        "print(\"Strong: \", tokenizer.word_index['strong'])\n",
        "print(\"And: \", tokenizer.word_index['and'])\n",
        "print(\"Consumption: \", tokenizer.word_index['consumption'])"
      ],
      "metadata": {
        "execution": {
          "iopub.status.busy": "2022-05-31T14:51:08.332626Z",
          "iopub.execute_input": "2022-05-31T14:51:08.33321Z",
          "iopub.status.idle": "2022-05-31T14:51:08.446728Z",
          "shell.execute_reply.started": "2022-05-31T14:51:08.333176Z",
          "shell.execute_reply": "2022-05-31T14:51:08.445708Z"
        },
        "trusted": true,
        "colab": {
          "base_uri": "https://localhost:8080/"
        },
        "id": "V-XmFJNEFswD",
        "outputId": "d46ea2c1-12f1-4767-ca91-b9c986a2bbeb"
      },
      "execution_count": null,
      "outputs": [
        {
          "output_type": "stream",
          "name": "stdout",
          "text": [
            "Total number of words:  8238\n",
            "Word: ID\n",
            "------------\n",
            "<oov>:  1\n",
            "Strong:  4\n",
            "And:  8\n",
            "Consumption:  8237\n"
          ]
        }
      ]
    },
    {
      "cell_type": "markdown",
      "source": [
        "<a name=\"ngram\"></a>\n",
        "#### Titles text into sequences and make n_gram model\n",
        "\n",
        "suppose, we have sentence like **\"I am Yash\"** and this will convert into a sequence with their respective tokens **{'I': 1,'am': 2,'Yash': 3}**. Thus, output will be  **[ '1' ,'2' ,'3' ]**\n",
        "\n",
        "Likewise, our all titles will be converted into sequences.\n",
        "\n",
        "Then,\n",
        "we will make a n_gram model for good prediction.\n",
        "\n",
        "Below image explain about everything.\n",
        "\n",
        "![Capture.PNG](attachment:48ad80b3-90bf-4cf6-99f8-7dcfd467d1f8.PNG)\n"
      ],
      "metadata": {
        "id": "sexBb4TKFswD"
      }
    },
    {
      "cell_type": "code",
      "source": [
        "input_sequences = []\n",
        "for c, line in enumerate(medium_data['title']):\n",
        "    token_list = tokenizer.texts_to_sequences([line])[0]\n",
        "    if c< 2: print(token_list)\n",
        "    \n",
        "    for i in range(1, len(token_list)):\n",
        "        n_gram_sequence = token_list[:i+1]\n",
        "        input_sequences.append(n_gram_sequence)\n",
        "\n",
        "    if c< 2: print(input_sequences)\n",
        "print(\"Total input sequences: \", len(input_sequences))"
      ],
      "metadata": {
        "execution": {
          "iopub.status.busy": "2022-05-31T14:51:58.383896Z",
          "iopub.execute_input": "2022-05-31T14:51:58.384218Z",
          "iopub.status.idle": "2022-05-31T14:51:58.503031Z",
          "shell.execute_reply.started": "2022-05-31T14:51:58.38419Z",
          "shell.execute_reply": "2022-05-31T14:51:58.501989Z"
        },
        "trusted": true,
        "colab": {
          "base_uri": "https://localhost:8080/"
        },
        "id": "o4gYPUmzFswE",
        "outputId": "a32e7d59-8cb2-40d3-f1c0-c75167fb4672"
      },
      "execution_count": null,
      "outputs": [
        {
          "output_type": "stream",
          "name": "stdout",
          "text": [
            "[5, 676, 68, 2, 452, 1518, 14, 2455, 3653, 99]\n",
            "[[5, 676], [5, 676, 68], [5, 676, 68, 2], [5, 676, 68, 2, 452], [5, 676, 68, 2, 452, 1518], [5, 676, 68, 2, 452, 1518, 14], [5, 676, 68, 2, 452, 1518, 14, 2455], [5, 676, 68, 2, 452, 1518, 14, 2455, 3653], [5, 676, 68, 2, 452, 1518, 14, 2455, 3653, 99]]\n",
            "[1858, 23, 741, 81, 103, 14, 345, 345, 1859]\n",
            "[[5, 676], [5, 676, 68], [5, 676, 68, 2], [5, 676, 68, 2, 452], [5, 676, 68, 2, 452, 1518], [5, 676, 68, 2, 452, 1518, 14], [5, 676, 68, 2, 452, 1518, 14, 2455], [5, 676, 68, 2, 452, 1518, 14, 2455, 3653], [5, 676, 68, 2, 452, 1518, 14, 2455, 3653, 99], [1858, 23], [1858, 23, 741], [1858, 23, 741, 81], [1858, 23, 741, 81, 103], [1858, 23, 741, 81, 103, 14], [1858, 23, 741, 81, 103, 14, 345], [1858, 23, 741, 81, 103, 14, 345, 345], [1858, 23, 741, 81, 103, 14, 345, 345, 1859]]\n",
            "Total input sequences:  48461\n"
          ]
        }
      ]
    },
    {
      "cell_type": "markdown",
      "source": [
        "<a name=\"pad\"></a>\n",
        "#### Make all titles with same length by using padding\n",
        "\n",
        "The length of every title has to be the same. To make it, we need to find a title that has a maximum length, and based on that length, we have to pad rest of titles."
      ],
      "metadata": {
        "id": "xaL3vdBWFswE"
      }
    },
    {
      "cell_type": "code",
      "source": [
        "# pad sequences \n",
        "max_sequence_len = max([len(x) for x in input_sequences])\n",
        "input_sequences = np.array(pad_sequences(input_sequences, maxlen=max_sequence_len, padding='pre'))\n",
        "print(input_sequences[1])\n",
        "print(max_sequence_len)"
      ],
      "metadata": {
        "execution": {
          "iopub.status.busy": "2022-05-31T14:52:45.447697Z",
          "iopub.execute_input": "2022-05-31T14:52:45.44805Z",
          "iopub.status.idle": "2022-05-31T14:52:45.661185Z",
          "shell.execute_reply.started": "2022-05-31T14:52:45.448018Z",
          "shell.execute_reply": "2022-05-31T14:52:45.660267Z"
        },
        "trusted": true,
        "colab": {
          "base_uri": "https://localhost:8080/"
        },
        "id": "yha4mbnJFswE",
        "outputId": "2a3567d7-f551-4468-e221-f1be42394fca"
      },
      "execution_count": null,
      "outputs": [
        {
          "output_type": "stream",
          "name": "stdout",
          "text": [
            "[  0   0   0   0   0   0   0   0   0   0   0   0   0   0   0   0   0   0\n",
            "   0   0   0   0   0   0   0   0   0   0   0   0   0   0   0   0   0   0\n",
            "   0   5 676  68]\n",
            "40\n"
          ]
        }
      ]
    },
    {
      "cell_type": "markdown",
      "source": [
        "<a name=\"xy\"></a>\n",
        "## Prepare features and labels\n",
        "\n",
        "Here, we consider **last element of all sequences as a label**.Then,\n",
        "We need to perform **onehot encoding on labels corresponding to total_words.**"
      ],
      "metadata": {
        "id": "-ULqvraGFswF"
      }
    },
    {
      "cell_type": "code",
      "source": [
        "# create features and label\n",
        "xs, labels = input_sequences[:,:-1],input_sequences[:,-1]\n",
        "ys = tf.keras.utils.to_categorical(labels, num_classes=total_words)"
      ],
      "metadata": {
        "execution": {
          "iopub.status.busy": "2022-05-31T14:53:19.555208Z",
          "iopub.execute_input": "2022-05-31T14:53:19.555609Z",
          "iopub.status.idle": "2022-05-31T14:53:19.703186Z",
          "shell.execute_reply.started": "2022-05-31T14:53:19.555575Z",
          "shell.execute_reply": "2022-05-31T14:53:19.702402Z"
        },
        "trusted": true,
        "id": "dFnYWdwfFswG"
      },
      "execution_count": null,
      "outputs": []
    },
    {
      "cell_type": "code",
      "source": [
        "print(xs[5])\n",
        "print(labels[5])\n",
        "print(ys[5][14])"
      ],
      "metadata": {
        "execution": {
          "iopub.status.busy": "2022-05-31T14:53:43.961489Z",
          "iopub.execute_input": "2022-05-31T14:53:43.961814Z",
          "iopub.status.idle": "2022-05-31T14:53:43.968709Z",
          "shell.execute_reply.started": "2022-05-31T14:53:43.961787Z",
          "shell.execute_reply": "2022-05-31T14:53:43.967634Z"
        },
        "trusted": true,
        "colab": {
          "base_uri": "https://localhost:8080/"
        },
        "id": "3yYL1kTaFswG",
        "outputId": "62a5358e-443f-4113-e741-85ef8ff06cd1"
      },
      "execution_count": null,
      "outputs": [
        {
          "output_type": "stream",
          "name": "stdout",
          "text": [
            "[   0    0    0    0    0    0    0    0    0    0    0    0    0    0\n",
            "    0    0    0    0    0    0    0    0    0    0    0    0    0    0\n",
            "    0    0    0    0    0    5  676   68    2  452 1518]\n",
            "14\n",
            "1.0\n"
          ]
        }
      ]
    },
    {
      "cell_type": "markdown",
      "source": [
        "<a name=\"blstm\"></a>\n",
        "## Architechture of Bidirectional LSTM Neural Network\n",
        "\n",
        "Long Short-Term Memory (LSTM) networks is an advance recurrent neural network which is apable to store order states by using its cell state feature.\n",
        "\n",
        "Image reference: https://www.researchgate.net/figure/The-structure-of-the-Long-Short-Term-Memory-LSTM-neural-network-Reproduced-from-Yan_fig8_334268507\n",
        "![lstm.png](attachment:c34341f6-d243-478a-b4bd-bf242759cd50.png)\n",
        "\n",
        "**Bidirectional LSTM**\n",
        "Image reference: https://paperswithcode.com/method/bilstm\n",
        "![bi.png](attachment:d26c6b0c-cbdf-45a5-b88b-2b352d7b7d63.png)"
      ],
      "metadata": {
        "id": "ubXYk_WnFswG"
      }
    },
    {
      "cell_type": "markdown",
      "source": [
        "<a name=\"train\"></a>\n",
        "## Bi- LSTM Neural Network Model training"
      ],
      "metadata": {
        "id": "y44fWWwEFswG"
      }
    },
    {
      "cell_type": "markdown",
      "source": [
        "### Bi- LSTM Neural Network Model Architecture"
      ],
      "metadata": {
        "id": "od___YDRbxJx"
      }
    },
    {
      "cell_type": "code",
      "source": [
        "model = Sequential()\n",
        "model.add(Embedding(total_words, 100, input_length=max_sequence_len-1))\n",
        "model.add(Bidirectional(LSTM(150)))\n",
        "model.add(Dense(total_words, activation='softmax'))\n",
        "adam = Adam(lr=0.01)\n",
        "model.compile(loss='categorical_crossentropy', optimizer=adam, metrics=['accuracy'])\n",
        "\n"
      ],
      "metadata": {
        "execution": {
          "iopub.status.busy": "2022-05-31T15:11:30.805813Z",
          "iopub.execute_input": "2022-05-31T15:11:30.806233Z",
          "iopub.status.idle": "2022-05-31T16:54:20.032727Z",
          "shell.execute_reply.started": "2022-05-31T15:11:30.806201Z",
          "shell.execute_reply": "2022-05-31T16:54:20.031645Z"
        },
        "trusted": true,
        "colab": {
          "base_uri": "https://localhost:8080/"
        },
        "id": "L3pmFenHFswH",
        "outputId": "8466f2cf-dd68-4eab-a853-ac4ed5c0f023"
      },
      "execution_count": null,
      "outputs": [
        {
          "output_type": "stream",
          "name": "stderr",
          "text": [
            "/usr/local/lib/python3.7/dist-packages/keras/optimizer_v2/adam.py:105: UserWarning: The `lr` argument is deprecated, use `learning_rate` instead.\n",
            "  super(Adam, self).__init__(name, **kwargs)\n"
          ]
        }
      ]
    },
    {
      "cell_type": "markdown",
      "source": [
        "### Train model p1"
      ],
      "metadata": {
        "id": "aKr5EI0CcQmS"
      }
    },
    {
      "cell_type": "code",
      "source": [
        "history = model.fit(xs, ys, epochs=50, verbose=1)\n",
        "#print model.summary()\n",
        "print(model)"
      ],
      "metadata": {
        "id": "Ub2MCQzibm2c"
      },
      "execution_count": null,
      "outputs": []
    },
    {
      "cell_type": "code",
      "source": [
        "f\"{(50*123)//3600} h, {(50*123)%3600//60} min, {(50*123)%3600%60} sec\""
      ],
      "metadata": {
        "execution": {
          "iopub.status.busy": "2022-05-31T16:55:48.847374Z",
          "iopub.execute_input": "2022-05-31T16:55:48.847762Z",
          "iopub.status.idle": "2022-05-31T16:55:48.854862Z",
          "shell.execute_reply.started": "2022-05-31T16:55:48.847708Z",
          "shell.execute_reply": "2022-05-31T16:55:48.85368Z"
        },
        "trusted": true,
        "id": "-3d7_kITFswH"
      },
      "execution_count": null,
      "outputs": []
    },
    {
      "cell_type": "markdown",
      "source": [
        "### Save weights & data"
      ],
      "metadata": {
        "id": "U4YtATr-W75f"
      }
    },
    {
      "cell_type": "code",
      "source": [
        "model.save_weights(\"Language_model_BiLSTM_mediumDS.h5\")"
      ],
      "metadata": {
        "execution": {
          "iopub.status.busy": "2022-05-31T16:56:02.868258Z",
          "iopub.execute_input": "2022-05-31T16:56:02.868626Z",
          "iopub.status.idle": "2022-05-31T16:56:02.930007Z",
          "shell.execute_reply.started": "2022-05-31T16:56:02.868591Z",
          "shell.execute_reply": "2022-05-31T16:56:02.929184Z"
        },
        "trusted": true,
        "id": "YfPev-4NFswH"
      },
      "execution_count": null,
      "outputs": []
    },
    {
      "cell_type": "code",
      "source": [
        "medium_data.to_csv(\"medium_data_my.csv\", index=False)"
      ],
      "metadata": {
        "execution": {
          "iopub.status.busy": "2022-05-31T17:04:51.378568Z",
          "iopub.execute_input": "2022-05-31T17:04:51.378941Z",
          "iopub.status.idle": "2022-05-31T17:04:51.430861Z",
          "shell.execute_reply.started": "2022-05-31T17:04:51.378904Z",
          "shell.execute_reply": "2022-05-31T17:04:51.429868Z"
        },
        "trusted": true,
        "id": "CSvYVILHFswJ"
      },
      "execution_count": null,
      "outputs": []
    },
    {
      "cell_type": "code",
      "source": [
        "!cp ../input/medium-articles-dataset/medium_data.csv ./medium_data_original.csv"
      ],
      "metadata": {
        "execution": {
          "iopub.status.busy": "2022-05-31T17:06:53.780217Z",
          "iopub.execute_input": "2022-05-31T17:06:53.780616Z",
          "iopub.status.idle": "2022-05-31T17:06:54.687644Z",
          "shell.execute_reply.started": "2022-05-31T17:06:53.780579Z",
          "shell.execute_reply": "2022-05-31T17:06:54.686526Z"
        },
        "trusted": true,
        "id": "q29N-3PRFswJ"
      },
      "execution_count": null,
      "outputs": []
    },
    {
      "cell_type": "markdown",
      "source": [
        "### Load weights"
      ],
      "metadata": {
        "id": "iOCVNswXR8IJ"
      }
    },
    {
      "cell_type": "code",
      "source": [
        "model_link = \"https://drive.google.com/file/d/11yHsxnDksId3slcC9AomL2-kevpN6Rsx/view?usp=sharing\"\n",
        "file_id= model_link.split('/')[-2]\n",
        "fn = 'Language_model_BiLSTM_mediumDS.h5'\n",
        "!wget --no-check-certificate 'https://docs.google.com/uc?export=download&id=''$file_id' -O '$fn'\n"
      ],
      "metadata": {
        "id": "dco-4DOsR-0L",
        "colab": {
          "base_uri": "https://localhost:8080/"
        },
        "outputId": "1b1ce951-62a2-4105-b0fc-7ac62859a5fc"
      },
      "execution_count": null,
      "outputs": [
        {
          "output_type": "stream",
          "name": "stdout",
          "text": [
            "--2022-06-02 17:19:20--  https://docs.google.com/uc?export=download&id=11yHsxnDksId3slcC9AomL2-kevpN6Rsx\n",
            "Resolving docs.google.com (docs.google.com)... 142.251.107.100, 142.251.107.101, 142.251.107.113, ...\n",
            "Connecting to docs.google.com (docs.google.com)|142.251.107.100|:443... connected.\n",
            "HTTP request sent, awaiting response... 303 See Other\n",
            "Location: https://doc-0o-b0-docs.googleusercontent.com/docs/securesc/ha0ro937gcuc7l7deffksulhg5h7mbp1/s0kuhmqi4bead1ar20tdt8ccetbp78hj/1654190325000/17304979608001708681/*/11yHsxnDksId3slcC9AomL2-kevpN6Rsx?e=download [following]\n",
            "Warning: wildcards not supported in HTTP.\n",
            "--2022-06-02 17:19:23--  https://doc-0o-b0-docs.googleusercontent.com/docs/securesc/ha0ro937gcuc7l7deffksulhg5h7mbp1/s0kuhmqi4bead1ar20tdt8ccetbp78hj/1654190325000/17304979608001708681/*/11yHsxnDksId3slcC9AomL2-kevpN6Rsx?e=download\n",
            "Resolving doc-0o-b0-docs.googleusercontent.com (doc-0o-b0-docs.googleusercontent.com)... 173.194.218.132, 2607:f8b0:400c:c14::84\n",
            "Connecting to doc-0o-b0-docs.googleusercontent.com (doc-0o-b0-docs.googleusercontent.com)|173.194.218.132|:443... connected.\n",
            "HTTP request sent, awaiting response... 200 OK\n",
            "Length: 14439184 (14M) [application/octet-stream]\n",
            "Saving to: ‘Language_model_BiLSTM_mediumDS.h5’\n",
            "\n",
            "Language_model_BiLS 100%[===================>]  13.77M  17.0MB/s    in 0.8s    \n",
            "\n",
            "2022-06-02 17:19:25 (17.0 MB/s) - ‘Language_model_BiLSTM_mediumDS.h5’ saved [14439184/14439184]\n",
            "\n"
          ]
        }
      ]
    },
    {
      "cell_type": "code",
      "source": [
        "#model.load_weights(\"Language_model_BiLSTM_mediumDS.h5\")\n",
        "model.load_weights('/content/Language_model_BiLSTM_mediumDS_51ep.h5')\n"
      ],
      "metadata": {
        "execution": {
          "iopub.status.busy": "2022-05-31T17:00:39.100968Z",
          "iopub.execute_input": "2022-05-31T17:00:39.101311Z",
          "iopub.status.idle": "2022-05-31T17:00:39.122872Z",
          "shell.execute_reply.started": "2022-05-31T17:00:39.101281Z",
          "shell.execute_reply": "2022-05-31T17:00:39.121887Z"
        },
        "trusted": true,
        "id": "H7IkrNhXFswI"
      },
      "execution_count": null,
      "outputs": []
    },
    {
      "cell_type": "markdown",
      "source": [
        "### Train model p2 - after 50 epohcs - each 123 sec"
      ],
      "metadata": {
        "id": "N6Na45fAcJDE"
      }
    },
    {
      "cell_type": "code",
      "source": [
        "\n",
        "history = model.fit(xs, ys, epochs=1, verbose=1)\n",
        "#print model.summary()\n",
        "#print(model)"
      ],
      "metadata": {
        "colab": {
          "base_uri": "https://localhost:8080/"
        },
        "id": "S93eiRkvb_OZ",
        "outputId": "cbd3e12c-74e5-4941-e679-afa331e4a05a"
      },
      "execution_count": null,
      "outputs": [
        {
          "output_type": "stream",
          "name": "stdout",
          "text": [
            "1515/1515 [==============================] - 277s 180ms/step - loss: 2.5162 - accuracy: 0.4788\n"
          ]
        }
      ]
    },
    {
      "cell_type": "code",
      "source": [
        "model.save_weights(\"Language_model_BiLSTM_mediumDS_51ep.h5\")"
      ],
      "metadata": {
        "execution": {
          "iopub.status.busy": "2022-05-31T16:56:02.868258Z",
          "iopub.execute_input": "2022-05-31T16:56:02.868626Z",
          "iopub.status.idle": "2022-05-31T16:56:02.930007Z",
          "shell.execute_reply.started": "2022-05-31T16:56:02.868591Z",
          "shell.execute_reply": "2022-05-31T16:56:02.929184Z"
        },
        "trusted": true,
        "id": "CG2PBQ7jdchM"
      },
      "execution_count": null,
      "outputs": []
    },
    {
      "cell_type": "markdown",
      "source": [
        "<a name=\"acc\"></a>\n",
        "## Plotting model accuracy and loss"
      ],
      "metadata": {
        "id": "eZWmOnmxFswH"
      }
    },
    {
      "cell_type": "code",
      "source": [
        "import matplotlib.pyplot as plt\n",
        "\n",
        "\n",
        "def plot_graphs(history, string):\n",
        "    plt.plot(history.history[string])\n",
        "    plt.xlabel(\"Epochs\")\n",
        "    plt.ylabel(string)\n",
        "    plt.show()"
      ],
      "metadata": {
        "execution": {
          "iopub.status.busy": "2022-05-31T16:56:07.518439Z",
          "iopub.execute_input": "2022-05-31T16:56:07.519044Z",
          "iopub.status.idle": "2022-05-31T16:56:07.523497Z",
          "shell.execute_reply.started": "2022-05-31T16:56:07.519006Z",
          "shell.execute_reply": "2022-05-31T16:56:07.52284Z"
        },
        "trusted": true,
        "id": "vnKYJFm-FswH"
      },
      "execution_count": null,
      "outputs": []
    },
    {
      "cell_type": "code",
      "source": [
        "plot_graphs(history, 'accuracy')"
      ],
      "metadata": {
        "execution": {
          "iopub.status.busy": "2022-05-31T16:56:16.423418Z",
          "iopub.execute_input": "2022-05-31T16:56:16.423964Z",
          "iopub.status.idle": "2022-05-31T16:56:16.614414Z",
          "shell.execute_reply.started": "2022-05-31T16:56:16.423912Z",
          "shell.execute_reply": "2022-05-31T16:56:16.613369Z"
        },
        "trusted": true,
        "id": "TqYH9mRMFswI"
      },
      "execution_count": null,
      "outputs": []
    },
    {
      "cell_type": "code",
      "source": [
        "plot_graphs(history, 'loss')"
      ],
      "metadata": {
        "execution": {
          "iopub.status.busy": "2022-05-31T16:56:21.809369Z",
          "iopub.execute_input": "2022-05-31T16:56:21.809951Z",
          "iopub.status.idle": "2022-05-31T16:56:21.929292Z",
          "shell.execute_reply.started": "2022-05-31T16:56:21.809901Z",
          "shell.execute_reply": "2022-05-31T16:56:21.92847Z"
        },
        "trusted": true,
        "id": "XD8Kzi9BFswI"
      },
      "execution_count": null,
      "outputs": []
    },
    {
      "cell_type": "markdown",
      "source": [
        "<a name=\"new\"></a>\n",
        "## Predicting next word of title"
      ],
      "metadata": {
        "id": "-2pp_5G9FswI"
      }
    },
    {
      "cell_type": "code",
      "source": [
        "seed_text = \"implementation of\"\n",
        "seed_text = \"implementation of a fear\"\n",
        "seed_text = \"how to\"\n",
        "seed_text = \"How to Use\"\n",
        "seed_text = \"Databricks: How to Save File\"\n",
        "seed_text = \"How to Save File\"\n",
        "next_words = 2\n",
        "  \n",
        "for _ in range(next_words):\n",
        "    token_list = tokenizer.texts_to_sequences([seed_text])[0]\n",
        "    token_list = pad_sequences([token_list], maxlen=max_sequence_len-1, padding='pre')\n",
        "    #predicted = model.predict_classes(token_list, verbose=0)\n",
        "    predicted_probs = model.predict(token_list, verbose=0)\n",
        "    predicted = np.argmax(predicted_probs)\n",
        "    output_word = \"\"\n",
        "    for word, index in tokenizer.word_index.items():\n",
        "        if index == predicted:\n",
        "            output_word = word\n",
        "            break\n",
        "    seed_text += \" \" + output_word\n",
        "print(seed_text)"
      ],
      "metadata": {
        "execution": {
          "iopub.status.busy": "2022-05-31T17:16:01.085369Z",
          "iopub.execute_input": "2022-05-31T17:16:01.085714Z",
          "iopub.status.idle": "2022-05-31T17:16:01.192536Z",
          "shell.execute_reply.started": "2022-05-31T17:16:01.085683Z",
          "shell.execute_reply": "2022-05-31T17:16:01.19152Z"
        },
        "trusted": true,
        "colab": {
          "base_uri": "https://localhost:8080/"
        },
        "id": "oTRywSrOFswI",
        "outputId": "97f12bd2-ac4e-4f6c-99c8-23a7ace7d982"
      },
      "execution_count": null,
      "outputs": [
        {
          "output_type": "stream",
          "name": "stdout",
          "text": [
            "How to Save File from the\n"
          ]
        }
      ]
    },
    {
      "cell_type": "markdown",
      "source": [
        "<a name=\"SentencePiece\"></a>\n",
        "# **with SentencePiece - v I - from Scratch**"
      ],
      "metadata": {
        "id": "fdwdlrUyFswJ"
      }
    },
    {
      "cell_type": "markdown",
      "source": [
        "## Setup & Import"
      ],
      "metadata": {
        "id": "QTiheqRkMYfn"
      }
    },
    {
      "cell_type": "code",
      "source": [
        "!pip install sentencepiece"
      ],
      "metadata": {
        "execution": {
          "iopub.status.busy": "2022-06-01T18:46:31.252149Z",
          "iopub.execute_input": "2022-06-01T18:46:31.253037Z",
          "iopub.status.idle": "2022-06-01T18:46:41.352285Z",
          "shell.execute_reply.started": "2022-06-01T18:46:31.252897Z",
          "shell.execute_reply": "2022-06-01T18:46:41.35038Z"
        },
        "trusted": true,
        "colab": {
          "base_uri": "https://localhost:8080/"
        },
        "id": "A86SyOyxFswJ",
        "outputId": "f4050f65-d6f4-4d34-aea2-4c56bf6b4c3c"
      },
      "execution_count": null,
      "outputs": [
        {
          "output_type": "stream",
          "name": "stdout",
          "text": [
            "Looking in indexes: https://pypi.org/simple, https://us-python.pkg.dev/colab-wheels/public/simple/\n",
            "Collecting sentencepiece\n",
            "  Downloading sentencepiece-0.1.96-cp37-cp37m-manylinux_2_17_x86_64.manylinux2014_x86_64.whl (1.2 MB)\n",
            "\u001b[K     |████████████████████████████████| 1.2 MB 4.7 MB/s \n",
            "\u001b[?25hInstalling collected packages: sentencepiece\n",
            "Successfully installed sentencepiece-0.1.96\n"
          ]
        }
      ]
    },
    {
      "cell_type": "code",
      "source": [
        "import pandas as pd\n",
        "import os\n",
        "import numpy as np\n",
        "\n",
        "import tensorflow as tf\n",
        "from tensorflow.keras.preprocessing.sequence import pad_sequences\n",
        "from tensorflow.keras.layers import Embedding, LSTM, Dense, Bidirectional\n",
        "from tensorflow.keras.preprocessing.text import Tokenizer\n",
        "from tensorflow.keras.models import Sequential\n",
        "from tensorflow.keras.optimizers import Adam\n",
        "import sentencepiece as spm"
      ],
      "metadata": {
        "_uuid": "8f2839f25d086af736a60e9eeb907d3b93b6e0e5",
        "_cell_guid": "b1076dfc-b9ad-4769-8c92-a6c4dae69d19",
        "execution": {
          "iopub.status.busy": "2022-05-31T14:50:40.994879Z",
          "iopub.execute_input": "2022-05-31T14:50:40.995524Z",
          "iopub.status.idle": "2022-05-31T14:50:41.001389Z",
          "shell.execute_reply.started": "2022-05-31T14:50:40.995477Z",
          "shell.execute_reply": "2022-05-31T14:50:41.000588Z"
        },
        "trusted": true,
        "id": "QcLe-VhzFswJ"
      },
      "execution_count": null,
      "outputs": []
    },
    {
      "cell_type": "markdown",
      "source": [
        "## Data prepare"
      ],
      "metadata": {
        "id": "jgeI5IYeMdd4"
      }
    },
    {
      "cell_type": "markdown",
      "source": [
        "#### Load data"
      ],
      "metadata": {
        "id": "rYZezqw0WIVO"
      }
    },
    {
      "cell_type": "code",
      "source": [
        "data_link = \"https://drive.google.com/file/d/1vQbu1XmenVtNYSvqZmiwAo2jzFWZCsI8/view?usp=sharing\"\n",
        "file_id= data_link.split('/')[-2]\n",
        "fn = 'medium_data.csv'\n",
        "!wget --no-check-certificate 'https://docs.google.com/uc?export=download&id=''$file_id' -O '$fn'\n"
      ],
      "metadata": {
        "colab": {
          "base_uri": "https://localhost:8080/"
        },
        "id": "-rY_VfUWGe61",
        "outputId": "55a5fc4f-e4de-481f-cd5a-8227973007ef"
      },
      "execution_count": null,
      "outputs": [
        {
          "output_type": "stream",
          "name": "stdout",
          "text": [
            "--2022-06-02 16:02:47--  https://docs.google.com/uc?export=download&id=1vQbu1XmenVtNYSvqZmiwAo2jzFWZCsI8\n",
            "Resolving docs.google.com (docs.google.com)... 142.251.107.113, 142.251.107.139, 142.251.107.101, ...\n",
            "Connecting to docs.google.com (docs.google.com)|142.251.107.113|:443... connected.\n",
            "HTTP request sent, awaiting response... 303 See Other\n",
            "Location: https://doc-14-b0-docs.googleusercontent.com/docs/securesc/ha0ro937gcuc7l7deffksulhg5h7mbp1/ad7or30hcd35ars5dndq0oo1g5s2dbpl/1654185750000/17304979608001708681/*/1vQbu1XmenVtNYSvqZmiwAo2jzFWZCsI8?e=download [following]\n",
            "Warning: wildcards not supported in HTTP.\n",
            "--2022-06-02 16:02:48--  https://doc-14-b0-docs.googleusercontent.com/docs/securesc/ha0ro937gcuc7l7deffksulhg5h7mbp1/ad7or30hcd35ars5dndq0oo1g5s2dbpl/1654185750000/17304979608001708681/*/1vQbu1XmenVtNYSvqZmiwAo2jzFWZCsI8?e=download\n",
            "Resolving doc-14-b0-docs.googleusercontent.com (doc-14-b0-docs.googleusercontent.com)... 173.194.216.132, 2607:f8b0:400c:c12::84\n",
            "Connecting to doc-14-b0-docs.googleusercontent.com (doc-14-b0-docs.googleusercontent.com)|173.194.216.132|:443... connected.\n",
            "HTTP request sent, awaiting response... 200 OK\n",
            "Length: 1428382 (1.4M) [text/csv]\n",
            "Saving to: ‘medium_data.csv’\n",
            "\n",
            "medium_data.csv     100%[===================>]   1.36M  --.-KB/s    in 0.009s  \n",
            "\n",
            "2022-06-02 16:02:48 (156 MB/s) - ‘medium_data.csv’ saved [1428382/1428382]\n",
            "\n"
          ]
        }
      ]
    },
    {
      "cell_type": "code",
      "source": [
        "#medium_data = pd.read_csv('../input/medium-articles-dataset/medium_data.csv') # Kaggle\n",
        "medium_data = pd.read_csv('medium_data.csv') # Colab\n",
        "medium_data.head()"
      ],
      "metadata": {
        "execution": {
          "iopub.status.busy": "2022-05-31T14:50:49.294905Z",
          "iopub.execute_input": "2022-05-31T14:50:49.295657Z",
          "iopub.status.idle": "2022-05-31T14:50:49.349944Z",
          "shell.execute_reply.started": "2022-05-31T14:50:49.295603Z",
          "shell.execute_reply": "2022-05-31T14:50:49.348937Z"
        },
        "trusted": true,
        "colab": {
          "base_uri": "https://localhost:8080/",
          "height": 513
        },
        "id": "EjUXdLIxFswK",
        "outputId": "86f7ce6c-0312-4b71-8920-c7aecf0acfc8"
      },
      "execution_count": null,
      "outputs": [
        {
          "output_type": "execute_result",
          "data": {
            "text/plain": [
              "   id                                                url  \\\n",
              "0   1  https://towardsdatascience.com/a-beginners-gui...   \n",
              "1   2  https://towardsdatascience.com/hands-on-graph-...   \n",
              "2   3  https://towardsdatascience.com/how-to-use-ggpl...   \n",
              "3   4  https://towardsdatascience.com/databricks-how-...   \n",
              "4   5  https://towardsdatascience.com/a-step-by-step-...   \n",
              "\n",
              "                                               title  \\\n",
              "0  A Beginner’s Guide to Word Embedding with Gens...   \n",
              "1  Hands-on Graph Neural Networks with PyTorch & ...   \n",
              "2                       How to Use ggplot2 in Python   \n",
              "3  Databricks: How to Save Files in CSV on Your L...   \n",
              "4  A Step-by-Step Implementation of Gradient Desc...   \n",
              "\n",
              "                                  subtitle   image  claps responses  \\\n",
              "0                                      NaN   1.png    850         8   \n",
              "1                                      NaN   2.png   1100        11   \n",
              "2         A Grammar of Graphics for Python   3.png    767         1   \n",
              "3  When I work on Python projects dealing…  4.jpeg    354         0   \n",
              "4          One example of building neural…  5.jpeg    211         3   \n",
              "\n",
              "   reading_time           publication        date  \n",
              "0             8  Towards Data Science  2019-05-30  \n",
              "1             9  Towards Data Science  2019-05-30  \n",
              "2             5  Towards Data Science  2019-05-30  \n",
              "3             4  Towards Data Science  2019-05-30  \n",
              "4             4  Towards Data Science  2019-05-30  "
            ],
            "text/html": [
              "\n",
              "  <div id=\"df-20a132eb-4f79-4f7e-9302-442ee6652fb8\">\n",
              "    <div class=\"colab-df-container\">\n",
              "      <div>\n",
              "<style scoped>\n",
              "    .dataframe tbody tr th:only-of-type {\n",
              "        vertical-align: middle;\n",
              "    }\n",
              "\n",
              "    .dataframe tbody tr th {\n",
              "        vertical-align: top;\n",
              "    }\n",
              "\n",
              "    .dataframe thead th {\n",
              "        text-align: right;\n",
              "    }\n",
              "</style>\n",
              "<table border=\"1\" class=\"dataframe\">\n",
              "  <thead>\n",
              "    <tr style=\"text-align: right;\">\n",
              "      <th></th>\n",
              "      <th>id</th>\n",
              "      <th>url</th>\n",
              "      <th>title</th>\n",
              "      <th>subtitle</th>\n",
              "      <th>image</th>\n",
              "      <th>claps</th>\n",
              "      <th>responses</th>\n",
              "      <th>reading_time</th>\n",
              "      <th>publication</th>\n",
              "      <th>date</th>\n",
              "    </tr>\n",
              "  </thead>\n",
              "  <tbody>\n",
              "    <tr>\n",
              "      <th>0</th>\n",
              "      <td>1</td>\n",
              "      <td>https://towardsdatascience.com/a-beginners-gui...</td>\n",
              "      <td>A Beginner’s Guide to Word Embedding with Gens...</td>\n",
              "      <td>NaN</td>\n",
              "      <td>1.png</td>\n",
              "      <td>850</td>\n",
              "      <td>8</td>\n",
              "      <td>8</td>\n",
              "      <td>Towards Data Science</td>\n",
              "      <td>2019-05-30</td>\n",
              "    </tr>\n",
              "    <tr>\n",
              "      <th>1</th>\n",
              "      <td>2</td>\n",
              "      <td>https://towardsdatascience.com/hands-on-graph-...</td>\n",
              "      <td>Hands-on Graph Neural Networks with PyTorch &amp; ...</td>\n",
              "      <td>NaN</td>\n",
              "      <td>2.png</td>\n",
              "      <td>1100</td>\n",
              "      <td>11</td>\n",
              "      <td>9</td>\n",
              "      <td>Towards Data Science</td>\n",
              "      <td>2019-05-30</td>\n",
              "    </tr>\n",
              "    <tr>\n",
              "      <th>2</th>\n",
              "      <td>3</td>\n",
              "      <td>https://towardsdatascience.com/how-to-use-ggpl...</td>\n",
              "      <td>How to Use ggplot2 in Python</td>\n",
              "      <td>A Grammar of Graphics for Python</td>\n",
              "      <td>3.png</td>\n",
              "      <td>767</td>\n",
              "      <td>1</td>\n",
              "      <td>5</td>\n",
              "      <td>Towards Data Science</td>\n",
              "      <td>2019-05-30</td>\n",
              "    </tr>\n",
              "    <tr>\n",
              "      <th>3</th>\n",
              "      <td>4</td>\n",
              "      <td>https://towardsdatascience.com/databricks-how-...</td>\n",
              "      <td>Databricks: How to Save Files in CSV on Your L...</td>\n",
              "      <td>When I work on Python projects dealing…</td>\n",
              "      <td>4.jpeg</td>\n",
              "      <td>354</td>\n",
              "      <td>0</td>\n",
              "      <td>4</td>\n",
              "      <td>Towards Data Science</td>\n",
              "      <td>2019-05-30</td>\n",
              "    </tr>\n",
              "    <tr>\n",
              "      <th>4</th>\n",
              "      <td>5</td>\n",
              "      <td>https://towardsdatascience.com/a-step-by-step-...</td>\n",
              "      <td>A Step-by-Step Implementation of Gradient Desc...</td>\n",
              "      <td>One example of building neural…</td>\n",
              "      <td>5.jpeg</td>\n",
              "      <td>211</td>\n",
              "      <td>3</td>\n",
              "      <td>4</td>\n",
              "      <td>Towards Data Science</td>\n",
              "      <td>2019-05-30</td>\n",
              "    </tr>\n",
              "  </tbody>\n",
              "</table>\n",
              "</div>\n",
              "      <button class=\"colab-df-convert\" onclick=\"convertToInteractive('df-20a132eb-4f79-4f7e-9302-442ee6652fb8')\"\n",
              "              title=\"Convert this dataframe to an interactive table.\"\n",
              "              style=\"display:none;\">\n",
              "        \n",
              "  <svg xmlns=\"http://www.w3.org/2000/svg\" height=\"24px\"viewBox=\"0 0 24 24\"\n",
              "       width=\"24px\">\n",
              "    <path d=\"M0 0h24v24H0V0z\" fill=\"none\"/>\n",
              "    <path d=\"M18.56 5.44l.94 2.06.94-2.06 2.06-.94-2.06-.94-.94-2.06-.94 2.06-2.06.94zm-11 1L8.5 8.5l.94-2.06 2.06-.94-2.06-.94L8.5 2.5l-.94 2.06-2.06.94zm10 10l.94 2.06.94-2.06 2.06-.94-2.06-.94-.94-2.06-.94 2.06-2.06.94z\"/><path d=\"M17.41 7.96l-1.37-1.37c-.4-.4-.92-.59-1.43-.59-.52 0-1.04.2-1.43.59L10.3 9.45l-7.72 7.72c-.78.78-.78 2.05 0 2.83L4 21.41c.39.39.9.59 1.41.59.51 0 1.02-.2 1.41-.59l7.78-7.78 2.81-2.81c.8-.78.8-2.07 0-2.86zM5.41 20L4 18.59l7.72-7.72 1.47 1.35L5.41 20z\"/>\n",
              "  </svg>\n",
              "      </button>\n",
              "      \n",
              "  <style>\n",
              "    .colab-df-container {\n",
              "      display:flex;\n",
              "      flex-wrap:wrap;\n",
              "      gap: 12px;\n",
              "    }\n",
              "\n",
              "    .colab-df-convert {\n",
              "      background-color: #E8F0FE;\n",
              "      border: none;\n",
              "      border-radius: 50%;\n",
              "      cursor: pointer;\n",
              "      display: none;\n",
              "      fill: #1967D2;\n",
              "      height: 32px;\n",
              "      padding: 0 0 0 0;\n",
              "      width: 32px;\n",
              "    }\n",
              "\n",
              "    .colab-df-convert:hover {\n",
              "      background-color: #E2EBFA;\n",
              "      box-shadow: 0px 1px 2px rgba(60, 64, 67, 0.3), 0px 1px 3px 1px rgba(60, 64, 67, 0.15);\n",
              "      fill: #174EA6;\n",
              "    }\n",
              "\n",
              "    [theme=dark] .colab-df-convert {\n",
              "      background-color: #3B4455;\n",
              "      fill: #D2E3FC;\n",
              "    }\n",
              "\n",
              "    [theme=dark] .colab-df-convert:hover {\n",
              "      background-color: #434B5C;\n",
              "      box-shadow: 0px 1px 3px 1px rgba(0, 0, 0, 0.15);\n",
              "      filter: drop-shadow(0px 1px 2px rgba(0, 0, 0, 0.3));\n",
              "      fill: #FFFFFF;\n",
              "    }\n",
              "  </style>\n",
              "\n",
              "      <script>\n",
              "        const buttonEl =\n",
              "          document.querySelector('#df-20a132eb-4f79-4f7e-9302-442ee6652fb8 button.colab-df-convert');\n",
              "        buttonEl.style.display =\n",
              "          google.colab.kernel.accessAllowed ? 'block' : 'none';\n",
              "\n",
              "        async function convertToInteractive(key) {\n",
              "          const element = document.querySelector('#df-20a132eb-4f79-4f7e-9302-442ee6652fb8');\n",
              "          const dataTable =\n",
              "            await google.colab.kernel.invokeFunction('convertToInteractive',\n",
              "                                                     [key], {});\n",
              "          if (!dataTable) return;\n",
              "\n",
              "          const docLinkHtml = 'Like what you see? Visit the ' +\n",
              "            '<a target=\"_blank\" href=https://colab.research.google.com/notebooks/data_table.ipynb>data table notebook</a>'\n",
              "            + ' to learn more about interactive tables.';\n",
              "          element.innerHTML = '';\n",
              "          dataTable['output_type'] = 'display_data';\n",
              "          await google.colab.output.renderOutput(dataTable, element);\n",
              "          const docLink = document.createElement('div');\n",
              "          docLink.innerHTML = docLinkHtml;\n",
              "          element.appendChild(docLink);\n",
              "        }\n",
              "      </script>\n",
              "    </div>\n",
              "  </div>\n",
              "  "
            ]
          },
          "metadata": {},
          "execution_count": 124
        }
      ]
    },
    {
      "cell_type": "markdown",
      "source": [
        "<a name=\"remv\"></a>\n",
        "#### Removing unwanted characters and words in titles\n",
        "\n",
        "Looking at titles, we can see there are some of unwanted characters and words in it which can not be useful for us to predict infact it might decrease our model accuracy so we have to remove it."
      ],
      "metadata": {
        "id": "-W8iAcq_MNJk"
      }
    },
    {
      "cell_type": "code",
      "source": [
        "medium_data['title'] = medium_data['title'].apply(lambda x: x.replace(u'\\xa0',u' '))\n",
        "medium_data['title'] = medium_data['title'].apply(lambda x: x.replace('\\u200a',' '))"
      ],
      "metadata": {
        "execution": {
          "iopub.status.busy": "2022-05-31T14:51:04.377174Z",
          "iopub.execute_input": "2022-05-31T14:51:04.377769Z",
          "iopub.status.idle": "2022-05-31T14:51:04.38892Z",
          "shell.execute_reply.started": "2022-05-31T14:51:04.377717Z",
          "shell.execute_reply": "2022-05-31T14:51:04.387839Z"
        },
        "trusted": true,
        "id": "i6PDJyTBFswK"
      },
      "execution_count": null,
      "outputs": []
    },
    {
      "cell_type": "code",
      "source": [
        "medium_data['title'].to_csv('medium_data.txt', index=False, header=None )"
      ],
      "metadata": {
        "id": "d_K7-PB1Lurc"
      },
      "execution_count": null,
      "outputs": []
    },
    {
      "cell_type": "markdown",
      "source": [
        "```\n",
        "tokenizer = Tokenizer(oov_token='<oov>') # For those words which are not found in word_index\n",
        "tokenizer.fit_on_texts(medium_data['title'])\n",
        "total_words = len(tokenizer.word_index) + 1\n",
        "\n",
        "print(\"Total number of words: \", total_words)\n",
        "print(\"Word: ID\")\n",
        "print(\"------------\")\n",
        "print(\"<oov>: \", tokenizer.word_index['<oov>'])\n",
        "print(\"Strong: \", tokenizer.word_index['strong'])\n",
        "print(\"And: \", tokenizer.word_index['and'])\n",
        "print(\"Consumption: \", tokenizer.word_index['consumption'])\n",
        "```"
      ],
      "metadata": {
        "id": "hRKsTLusHSgb"
      }
    },
    {
      "cell_type": "markdown",
      "source": [
        "<a name=\"token\"></a>\n",
        "#### Tokenzation\n",
        "\n",
        "Tokenzaion is the process in which we provide an unique id to all the words and make a word index or we can say vocabulary."
      ],
      "metadata": {
        "id": "YssVrqNmMSpK"
      }
    },
    {
      "cell_type": "code",
      "source": [
        "# by example https://colab.research.google.com/github/google/sentencepiece/blob/master/python/sentencepiece_python_module_example.ipynb#scrollTo=ee9W6wGnVteW\n",
        "# by End-to-End ASR SpeechBrain\n",
        "#sp.load(\"/content/speechbrain/templates/speech_recognition/Tokenizer/save/1000_unigram.model\")\n",
        "\n",
        "#import torch\n",
        "import sentencepiece as spm\n",
        "sp = spm.SentencePieceProcessor()\n"
      ],
      "metadata": {
        "id": "DRxrziifHeHh"
      },
      "execution_count": null,
      "outputs": []
    },
    {
      "cell_type": "code",
      "source": [
        "#spm.SentencePieceTrainer.train('--input=botchan.txt --vocab_size=2000 --model_prefix=m --pad_id=0 --unk_id=1 --bos_id=2 --eos_id=3 --pad_piece=[PAD] --unk_piece=[UNK] --bos_piece=[BOS] --eos_piece=[EOS]')\n",
        "#spm.SentencePieceTrainer.train('--input=medium_data.txt --vocab_size=9000 --model_prefix=m --pad_id=0 --unk_id=1 --bos_id=2 --eos_id=3 --pad_piece=[PAD] --unk_piece=[UNK] --bos_piece=[BOS] --eos_piece=[EOS]')\n",
        "spm.SentencePieceTrainer.train('--input=medium_data.txt --model_prefix=tokenizer --pad_id=0 --unk_id=1 --bos_id=2 --eos_id=3 --pad_piece=[PAD] --unk_piece=[UNK] --bos_piece=[BOS] --eos_piece=[EOS]')\n",
        "sp = spm.SentencePieceProcessor()\n",
        "sp.load('tokenizer.model')\n",
        "\n",
        "# <unk>=0, <s>=1, </s>=2, <sep>=3, <cls>=4\n",
        "print('bos=', sp.bos_id())\n",
        "print('eos=', sp.eos_id())\n",
        "print('unk=', sp.unk_id())\n",
        "print('pad=', sp.pad_id())  # disabled by default\n",
        "\n",
        "for id in range(4):\n",
        "    print(sp.id_to_piece(id), sp.is_control(id))\n",
        "vocab_size = sp.vocab_size()\n",
        "print(f\"vocab_size={vocab_size}\")\n",
        "vocab = {sp.IdToPiece(i): i for i in range(sp.GetPieceSize())}"
      ],
      "metadata": {
        "colab": {
          "base_uri": "https://localhost:8080/"
        },
        "id": "VB_EneZzKbY8",
        "outputId": "ef3f0247-de77-40c3-822b-1c8d35e4124e"
      },
      "execution_count": null,
      "outputs": [
        {
          "output_type": "stream",
          "name": "stdout",
          "text": [
            "bos= 2\n",
            "eos= 3\n",
            "unk= 1\n",
            "pad= 0\n",
            "[PAD] True\n",
            "[UNK] False\n",
            "[BOS] True\n",
            "[EOS] True\n",
            "vocab_size=8000\n"
          ]
        }
      ]
    },
    {
      "cell_type": "code",
      "source": [
        "sp.id_to_piece(0), sp.id_to_piece(1), sp.id_to_piece(7999), sp.decode_ids([7999])"
      ],
      "metadata": {
        "colab": {
          "base_uri": "https://localhost:8080/"
        },
        "id": "bEdsGX76Oz5o",
        "outputId": "bb41e96d-5981-4416-c9da-0be645285d56"
      },
      "execution_count": null,
      "outputs": [
        {
          "output_type": "execute_result",
          "data": {
            "text/plain": [
              "('[PAD]', '[UNK]', 'q', 'q')"
            ]
          },
          "metadata": {},
          "execution_count": 129
        }
      ]
    },
    {
      "cell_type": "code",
      "source": [
        "\n",
        "# Encode as pieces\n",
        "print(sp.encode_as_pieces('THE CITY OF MONTREAL'))\n",
        "print(sp.encode_as_ids('THE CITY OF MONTREAL'))\n",
        "\n",
        "# Encode as ids\n",
        "print(sp.encode_as_pieces('ИЗ СТОРОНЫ В СТОРОНУ ОЩУЩЕНИЕ КОТОРОГО ОН НИКОГДА'))\n",
        "print(sp.encode_as_ids('ИЗ СТОРОНЫ В СТОРОНУ ОЩУЩЕНИЕ КОТОРОГО ОН НИКОГДА'))\n"
      ],
      "metadata": {
        "colab": {
          "base_uri": "https://localhost:8080/"
        },
        "id": "z-MImzEzJ3eu",
        "outputId": "935686c3-2126-4831-e0c6-6d96e742a15d"
      },
      "execution_count": null,
      "outputs": [
        {
          "output_type": "stream",
          "name": "stdout",
          "text": [
            "['▁T', 'HE', '▁CI', 'T', 'Y', '▁O', 'F', '▁MO', 'NT', 'RE', 'AL']\n",
            "[132, 2691, 2114, 811, 2065, 536, 657, 5214, 6451, 5365, 2906]\n",
            "['▁', 'ИЗ', '▁', 'СТОРОНЫ', '▁', 'В', '▁', 'СТОРОНУ', '▁', 'ОЩУЩЕНИЕ', '▁', 'КОТОРОГО', '▁', 'ОН', '▁', 'НИКОГДА']\n",
            "[7, 1, 7, 1, 7, 1, 7, 1, 7, 1, 7, 1, 7, 1, 7, 1]\n"
          ]
        }
      ]
    },
    {
      "cell_type": "code",
      "source": [
        "input_sequences = []\n",
        "for c, line in enumerate(medium_data['title']):\n",
        "    #token_list = tokenizer.texts_to_sequences([line])[0]\n",
        "    token_list = sp.encode_as_ids(line) #[0]\n",
        "    if c< 2: print(token_list)\n",
        "    \n",
        "    for i in range(1, len(token_list)):\n",
        "        n_gram_sequence = token_list[:i+1]\n",
        "        input_sequences.append(n_gram_sequence)\n",
        "\n",
        "    if c< 2: print(input_sequences)\n",
        "print(\"Total input sequences: \", len(input_sequences))"
      ],
      "metadata": {
        "execution": {
          "iopub.status.busy": "2022-05-31T14:51:58.383896Z",
          "iopub.execute_input": "2022-05-31T14:51:58.384218Z",
          "iopub.status.idle": "2022-05-31T14:51:58.503031Z",
          "shell.execute_reply.started": "2022-05-31T14:51:58.38419Z",
          "shell.execute_reply": "2022-05-31T14:51:58.501989Z"
        },
        "trusted": true,
        "colab": {
          "base_uri": "https://localhost:8080/"
        },
        "id": "HnHAZkCCFswK",
        "outputId": "c97bc6b5-af41-4f85-9551-35fd4e532e9c"
      },
      "execution_count": null,
      "outputs": [
        {
          "output_type": "stream",
          "name": "stdout",
          "text": [
            "[26, 777, 13, 4, 133, 5, 669, 1975, 32, 4388, 669, 349, 7169, 246]\n",
            "[[26, 777], [26, 777, 13], [26, 777, 13, 4], [26, 777, 13, 4, 133], [26, 777, 13, 4, 133, 5], [26, 777, 13, 4, 133, 5, 669], [26, 777, 13, 4, 133, 5, 669, 1975], [26, 777, 13, 4, 133, 5, 669, 1975, 32], [26, 777, 13, 4, 133, 5, 669, 1975, 32, 4388], [26, 777, 13, 4, 133, 5, 669, 1975, 32, 4388, 669], [26, 777, 13, 4, 133, 5, 669, 1975, 32, 4388, 669, 349], [26, 777, 13, 4, 133, 5, 669, 1975, 32, 4388, 669, 349, 7169], [26, 777, 13, 4, 133, 5, 669, 1975, 32, 4388, 669, 349, 7169, 246]]\n",
            "[5427, 22, 148, 774, 138, 174, 32, 626, 78, 626, 4546]\n",
            "[[26, 777], [26, 777, 13], [26, 777, 13, 4], [26, 777, 13, 4, 133], [26, 777, 13, 4, 133, 5], [26, 777, 13, 4, 133, 5, 669], [26, 777, 13, 4, 133, 5, 669, 1975], [26, 777, 13, 4, 133, 5, 669, 1975, 32], [26, 777, 13, 4, 133, 5, 669, 1975, 32, 4388], [26, 777, 13, 4, 133, 5, 669, 1975, 32, 4388, 669], [26, 777, 13, 4, 133, 5, 669, 1975, 32, 4388, 669, 349], [26, 777, 13, 4, 133, 5, 669, 1975, 32, 4388, 669, 349, 7169], [26, 777, 13, 4, 133, 5, 669, 1975, 32, 4388, 669, 349, 7169, 246], [5427, 22], [5427, 22, 148], [5427, 22, 148, 774], [5427, 22, 148, 774, 138], [5427, 22, 148, 774, 138, 174], [5427, 22, 148, 774, 138, 174, 32], [5427, 22, 148, 774, 138, 174, 32, 626], [5427, 22, 148, 774, 138, 174, 32, 626, 78], [5427, 22, 148, 774, 138, 174, 32, 626, 78, 626], [5427, 22, 148, 774, 138, 174, 32, 626, 78, 626, 4546]]\n",
            "Total input sequences:  71307\n"
          ]
        }
      ]
    },
    {
      "cell_type": "code",
      "source": [
        "medium_data['title'][0]"
      ],
      "metadata": {
        "colab": {
          "base_uri": "https://localhost:8080/",
          "height": 35
        },
        "id": "zhk6TlHYMKue",
        "outputId": "5734079c-93d4-4286-8027-dd51b24c8929"
      },
      "execution_count": null,
      "outputs": [
        {
          "output_type": "execute_result",
          "data": {
            "text/plain": [
              "'A Beginner’s Guide to Word Embedding with Gensim Word2Vec Model'"
            ],
            "application/vnd.google.colaboratory.intrinsic+json": {
              "type": "string"
            }
          },
          "metadata": {},
          "execution_count": 132
        }
      ]
    },
    {
      "cell_type": "code",
      "source": [
        "# pad sequences \n",
        "max_sequence_len = max([len(x) for x in input_sequences])\n",
        "input_sequences = np.array(pad_sequences(input_sequences, maxlen=max_sequence_len, padding='pre'))\n",
        "print(input_sequences[1])\n",
        "print(max_sequence_len)"
      ],
      "metadata": {
        "execution": {
          "iopub.status.busy": "2022-05-31T14:52:45.447697Z",
          "iopub.execute_input": "2022-05-31T14:52:45.44805Z",
          "iopub.status.idle": "2022-05-31T14:52:45.661185Z",
          "shell.execute_reply.started": "2022-05-31T14:52:45.448018Z",
          "shell.execute_reply": "2022-05-31T14:52:45.660267Z"
        },
        "trusted": true,
        "colab": {
          "base_uri": "https://localhost:8080/"
        },
        "id": "z-TfO2dyFswK",
        "outputId": "c5c62693-233d-458b-e3c0-2d8f34cd6381"
      },
      "execution_count": null,
      "outputs": [
        {
          "output_type": "stream",
          "name": "stdout",
          "text": [
            "[  0   0   0   0   0   0   0   0   0   0   0   0   0   0   0   0   0   0\n",
            "   0   0   0   0   0   0   0   0   0   0   0   0   0   0   0   0   0   0\n",
            "   0   0   0   0   0   0   0   0   0   0   0   0   0   0   0   0   0   0\n",
            "   0   0   0   0   0   0   0   0   0   0   0   0   0   0   0   0   0   0\n",
            "   0   0   0   0   0   0   0   0   0   0   0   0   0   0   0   0   0   0\n",
            "   0   0   0   0   0   0   0   0   0   0   0   0   0   0   0   0   0   0\n",
            "   0  26 777  13]\n",
            "112\n"
          ]
        }
      ]
    },
    {
      "cell_type": "code",
      "source": [
        ""
      ],
      "metadata": {
        "id": "P7BNlizhFswL"
      },
      "execution_count": null,
      "outputs": []
    },
    {
      "cell_type": "markdown",
      "source": [
        "<a name=\"xy_2\"></a>\n",
        "## Prepare features and labels\n",
        "\n",
        "Here, we consider **last element of all sequences as a label**.Then,\n",
        "We need to perform **onehot encoding on labels corresponding to total_words.**"
      ],
      "metadata": {
        "id": "JW1vAnbOFswL"
      }
    },
    {
      "cell_type": "code",
      "source": [
        "# create features and label\n",
        "xs, labels = input_sequences[:,:-1],input_sequences[:,-1]\n",
        "#ys = tf.keras.utils.to_categorical(labels, num_classes=total_words)\n",
        "ys = tf.keras.utils.to_categorical(labels, num_classes=vocab_size)"
      ],
      "metadata": {
        "execution": {
          "iopub.status.busy": "2022-05-31T14:53:19.555208Z",
          "iopub.execute_input": "2022-05-31T14:53:19.555609Z",
          "iopub.status.idle": "2022-05-31T14:53:19.703186Z",
          "shell.execute_reply.started": "2022-05-31T14:53:19.555575Z",
          "shell.execute_reply": "2022-05-31T14:53:19.702402Z"
        },
        "trusted": true,
        "id": "7P4gYAzWFswL"
      },
      "execution_count": null,
      "outputs": []
    },
    {
      "cell_type": "code",
      "source": [
        "print(xs[5])\n",
        "print(labels[5])\n",
        "print(ys[5][14])"
      ],
      "metadata": {
        "execution": {
          "iopub.status.busy": "2022-05-31T14:53:43.961489Z",
          "iopub.execute_input": "2022-05-31T14:53:43.961814Z",
          "iopub.status.idle": "2022-05-31T14:53:43.968709Z",
          "shell.execute_reply.started": "2022-05-31T14:53:43.961787Z",
          "shell.execute_reply": "2022-05-31T14:53:43.967634Z"
        },
        "trusted": true,
        "colab": {
          "base_uri": "https://localhost:8080/"
        },
        "id": "w2-gbghcFswL",
        "outputId": "b534d604-1513-4e1c-9984-485b821c712c"
      },
      "execution_count": null,
      "outputs": [
        {
          "output_type": "stream",
          "name": "stdout",
          "text": [
            "[  0   0   0   0   0   0   0   0   0   0   0   0   0   0   0   0   0   0\n",
            "   0   0   0   0   0   0   0   0   0   0   0   0   0   0   0   0   0   0\n",
            "   0   0   0   0   0   0   0   0   0   0   0   0   0   0   0   0   0   0\n",
            "   0   0   0   0   0   0   0   0   0   0   0   0   0   0   0   0   0   0\n",
            "   0   0   0   0   0   0   0   0   0   0   0   0   0   0   0   0   0   0\n",
            "   0   0   0   0   0   0   0   0   0   0   0   0   0   0   0  26 777  13\n",
            "   4 133   5]\n",
            "669\n",
            "0.0\n"
          ]
        }
      ]
    },
    {
      "cell_type": "code",
      "source": [
        "sp.id_to_piece(26),  sp.id_to_piece(777), sp.id_to_piece(13), sp.id_to_piece(4), sp.id_to_piece(133), sp.id_to_piece(5) "
      ],
      "metadata": {
        "colab": {
          "base_uri": "https://localhost:8080/"
        },
        "id": "BjvCmskELuBb",
        "outputId": "dfa2c217-1990-47cd-b852-62c9501723b7"
      },
      "execution_count": null,
      "outputs": [
        {
          "output_type": "execute_result",
          "data": {
            "text/plain": [
              "('▁A', '▁Beginner', '’', 's', '▁Guide', '▁to')"
            ]
          },
          "metadata": {},
          "execution_count": 136
        }
      ]
    },
    {
      "cell_type": "markdown",
      "source": [
        "<a name=\"train_2\"></a>\n",
        "## Bi- LSTM Neural Network Model training"
      ],
      "metadata": {
        "id": "H5NLz-rARMkq"
      }
    },
    {
      "cell_type": "markdown",
      "source": [
        "### p1 - fst 3 epochs"
      ],
      "metadata": {
        "id": "XvL0dW73ZpLx"
      }
    },
    {
      "cell_type": "code",
      "source": [
        "model = Sequential()\n",
        "#model.add(Embedding(total_words, 100, input_length=max_sequence_len-1))\n",
        "model.add(Embedding(vocab_size, 100, input_length=max_sequence_len-1))\n",
        "model.add(Bidirectional(LSTM(150)))\n",
        "#model.add(Dense(total_words, activation='softmax'))\n",
        "model.add(Dense(vocab_size, activation='softmax'))\n",
        "#adam = Adam(lr=0.01)\n",
        "adam = Adam(learning_rate=0.01)\n",
        "model.compile(loss='categorical_crossentropy', optimizer=adam, metrics=['accuracy'])\n",
        "history = model.fit(xs, ys, epochs=50, verbose=1)\n",
        "#print model.summary()\n",
        "print(model)\n"
      ],
      "metadata": {
        "execution": {
          "iopub.status.busy": "2022-05-31T15:11:30.805813Z",
          "iopub.execute_input": "2022-05-31T15:11:30.806233Z",
          "iopub.status.idle": "2022-05-31T16:54:20.032727Z",
          "shell.execute_reply.started": "2022-05-31T15:11:30.806201Z",
          "shell.execute_reply": "2022-05-31T16:54:20.031645Z"
        },
        "trusted": true,
        "colab": {
          "base_uri": "https://localhost:8080/",
          "height": 617
        },
        "id": "0qquRYavFswL",
        "outputId": "e0491229-ceb3-48a1-9000-2954e319439f"
      },
      "execution_count": null,
      "outputs": [
        {
          "output_type": "stream",
          "name": "stdout",
          "text": [
            "Epoch 1/50\n"
          ]
        },
        {
          "output_type": "stream",
          "name": "stderr",
          "text": [
            "/usr/local/lib/python3.7/dist-packages/keras/optimizer_v2/adam.py:105: UserWarning: The `lr` argument is deprecated, use `learning_rate` instead.\n",
            "  super(Adam, self).__init__(name, **kwargs)\n"
          ]
        },
        {
          "output_type": "stream",
          "name": "stdout",
          "text": [
            "2229/2229 [==============================] - 906s 404ms/step - loss: 6.4763 - accuracy: 0.1572\n",
            "Epoch 2/50\n",
            "2229/2229 [==============================] - 850s 382ms/step - loss: 5.4977 - accuracy: 0.2183\n",
            "Epoch 3/50\n",
            "2229/2229 [==============================] - 847s 380ms/step - loss: 4.8035 - accuracy: 0.2440\n",
            "Epoch 4/50\n",
            " 332/2229 [===>..........................] - ETA: 11:26 - loss: 3.9187 - accuracy: 0.2954"
          ]
        },
        {
          "output_type": "error",
          "ename": "KeyboardInterrupt",
          "evalue": "ignored",
          "traceback": [
            "\u001b[0;31m---------------------------------------------------------------------------\u001b[0m",
            "\u001b[0;31mKeyboardInterrupt\u001b[0m                         Traceback (most recent call last)",
            "\u001b[0;32m<ipython-input-32-a21428795da7>\u001b[0m in \u001b[0;36m<module>\u001b[0;34m()\u001b[0m\n\u001b[1;32m      7\u001b[0m \u001b[0madam\u001b[0m \u001b[0;34m=\u001b[0m \u001b[0mAdam\u001b[0m\u001b[0;34m(\u001b[0m\u001b[0mlr\u001b[0m\u001b[0;34m=\u001b[0m\u001b[0;36m0.01\u001b[0m\u001b[0;34m)\u001b[0m\u001b[0;34m\u001b[0m\u001b[0;34m\u001b[0m\u001b[0m\n\u001b[1;32m      8\u001b[0m \u001b[0mmodel\u001b[0m\u001b[0;34m.\u001b[0m\u001b[0mcompile\u001b[0m\u001b[0;34m(\u001b[0m\u001b[0mloss\u001b[0m\u001b[0;34m=\u001b[0m\u001b[0;34m'categorical_crossentropy'\u001b[0m\u001b[0;34m,\u001b[0m \u001b[0moptimizer\u001b[0m\u001b[0;34m=\u001b[0m\u001b[0madam\u001b[0m\u001b[0;34m,\u001b[0m \u001b[0mmetrics\u001b[0m\u001b[0;34m=\u001b[0m\u001b[0;34m[\u001b[0m\u001b[0;34m'accuracy'\u001b[0m\u001b[0;34m]\u001b[0m\u001b[0;34m)\u001b[0m\u001b[0;34m\u001b[0m\u001b[0;34m\u001b[0m\u001b[0m\n\u001b[0;32m----> 9\u001b[0;31m \u001b[0mhistory\u001b[0m \u001b[0;34m=\u001b[0m \u001b[0mmodel\u001b[0m\u001b[0;34m.\u001b[0m\u001b[0mfit\u001b[0m\u001b[0;34m(\u001b[0m\u001b[0mxs\u001b[0m\u001b[0;34m,\u001b[0m \u001b[0mys\u001b[0m\u001b[0;34m,\u001b[0m \u001b[0mepochs\u001b[0m\u001b[0;34m=\u001b[0m\u001b[0;36m50\u001b[0m\u001b[0;34m,\u001b[0m \u001b[0mverbose\u001b[0m\u001b[0;34m=\u001b[0m\u001b[0;36m1\u001b[0m\u001b[0;34m)\u001b[0m\u001b[0;34m\u001b[0m\u001b[0;34m\u001b[0m\u001b[0m\n\u001b[0m\u001b[1;32m     10\u001b[0m \u001b[0;31m#print model.summary()\u001b[0m\u001b[0;34m\u001b[0m\u001b[0;34m\u001b[0m\u001b[0;34m\u001b[0m\u001b[0m\n\u001b[1;32m     11\u001b[0m \u001b[0mprint\u001b[0m\u001b[0;34m(\u001b[0m\u001b[0mmodel\u001b[0m\u001b[0;34m)\u001b[0m\u001b[0;34m\u001b[0m\u001b[0;34m\u001b[0m\u001b[0m\n",
            "\u001b[0;32m/usr/local/lib/python3.7/dist-packages/keras/utils/traceback_utils.py\u001b[0m in \u001b[0;36merror_handler\u001b[0;34m(*args, **kwargs)\u001b[0m\n\u001b[1;32m     62\u001b[0m     \u001b[0mfiltered_tb\u001b[0m \u001b[0;34m=\u001b[0m \u001b[0;32mNone\u001b[0m\u001b[0;34m\u001b[0m\u001b[0;34m\u001b[0m\u001b[0m\n\u001b[1;32m     63\u001b[0m     \u001b[0;32mtry\u001b[0m\u001b[0;34m:\u001b[0m\u001b[0;34m\u001b[0m\u001b[0;34m\u001b[0m\u001b[0m\n\u001b[0;32m---> 64\u001b[0;31m       \u001b[0;32mreturn\u001b[0m \u001b[0mfn\u001b[0m\u001b[0;34m(\u001b[0m\u001b[0;34m*\u001b[0m\u001b[0margs\u001b[0m\u001b[0;34m,\u001b[0m \u001b[0;34m**\u001b[0m\u001b[0mkwargs\u001b[0m\u001b[0;34m)\u001b[0m\u001b[0;34m\u001b[0m\u001b[0;34m\u001b[0m\u001b[0m\n\u001b[0m\u001b[1;32m     65\u001b[0m     \u001b[0;32mexcept\u001b[0m \u001b[0mException\u001b[0m \u001b[0;32mas\u001b[0m \u001b[0me\u001b[0m\u001b[0;34m:\u001b[0m  \u001b[0;31m# pylint: disable=broad-except\u001b[0m\u001b[0;34m\u001b[0m\u001b[0;34m\u001b[0m\u001b[0m\n\u001b[1;32m     66\u001b[0m       \u001b[0mfiltered_tb\u001b[0m \u001b[0;34m=\u001b[0m \u001b[0m_process_traceback_frames\u001b[0m\u001b[0;34m(\u001b[0m\u001b[0me\u001b[0m\u001b[0;34m.\u001b[0m\u001b[0m__traceback__\u001b[0m\u001b[0;34m)\u001b[0m\u001b[0;34m\u001b[0m\u001b[0;34m\u001b[0m\u001b[0m\n",
            "\u001b[0;32m/usr/local/lib/python3.7/dist-packages/keras/engine/training.py\u001b[0m in \u001b[0;36mfit\u001b[0;34m(self, x, y, batch_size, epochs, verbose, callbacks, validation_split, validation_data, shuffle, class_weight, sample_weight, initial_epoch, steps_per_epoch, validation_steps, validation_batch_size, validation_freq, max_queue_size, workers, use_multiprocessing)\u001b[0m\n\u001b[1;32m   1382\u001b[0m                 _r=1):\n\u001b[1;32m   1383\u001b[0m               \u001b[0mcallbacks\u001b[0m\u001b[0;34m.\u001b[0m\u001b[0mon_train_batch_begin\u001b[0m\u001b[0;34m(\u001b[0m\u001b[0mstep\u001b[0m\u001b[0;34m)\u001b[0m\u001b[0;34m\u001b[0m\u001b[0;34m\u001b[0m\u001b[0m\n\u001b[0;32m-> 1384\u001b[0;31m               \u001b[0mtmp_logs\u001b[0m \u001b[0;34m=\u001b[0m \u001b[0mself\u001b[0m\u001b[0;34m.\u001b[0m\u001b[0mtrain_function\u001b[0m\u001b[0;34m(\u001b[0m\u001b[0miterator\u001b[0m\u001b[0;34m)\u001b[0m\u001b[0;34m\u001b[0m\u001b[0;34m\u001b[0m\u001b[0m\n\u001b[0m\u001b[1;32m   1385\u001b[0m               \u001b[0;32mif\u001b[0m \u001b[0mdata_handler\u001b[0m\u001b[0;34m.\u001b[0m\u001b[0mshould_sync\u001b[0m\u001b[0;34m:\u001b[0m\u001b[0;34m\u001b[0m\u001b[0;34m\u001b[0m\u001b[0m\n\u001b[1;32m   1386\u001b[0m                 \u001b[0mcontext\u001b[0m\u001b[0;34m.\u001b[0m\u001b[0masync_wait\u001b[0m\u001b[0;34m(\u001b[0m\u001b[0;34m)\u001b[0m\u001b[0;34m\u001b[0m\u001b[0;34m\u001b[0m\u001b[0m\n",
            "\u001b[0;32m/usr/local/lib/python3.7/dist-packages/tensorflow/python/util/traceback_utils.py\u001b[0m in \u001b[0;36merror_handler\u001b[0;34m(*args, **kwargs)\u001b[0m\n\u001b[1;32m    148\u001b[0m     \u001b[0mfiltered_tb\u001b[0m \u001b[0;34m=\u001b[0m \u001b[0;32mNone\u001b[0m\u001b[0;34m\u001b[0m\u001b[0;34m\u001b[0m\u001b[0m\n\u001b[1;32m    149\u001b[0m     \u001b[0;32mtry\u001b[0m\u001b[0;34m:\u001b[0m\u001b[0;34m\u001b[0m\u001b[0;34m\u001b[0m\u001b[0m\n\u001b[0;32m--> 150\u001b[0;31m       \u001b[0;32mreturn\u001b[0m \u001b[0mfn\u001b[0m\u001b[0;34m(\u001b[0m\u001b[0;34m*\u001b[0m\u001b[0margs\u001b[0m\u001b[0;34m,\u001b[0m \u001b[0;34m**\u001b[0m\u001b[0mkwargs\u001b[0m\u001b[0;34m)\u001b[0m\u001b[0;34m\u001b[0m\u001b[0;34m\u001b[0m\u001b[0m\n\u001b[0m\u001b[1;32m    151\u001b[0m     \u001b[0;32mexcept\u001b[0m \u001b[0mException\u001b[0m \u001b[0;32mas\u001b[0m \u001b[0me\u001b[0m\u001b[0;34m:\u001b[0m\u001b[0;34m\u001b[0m\u001b[0;34m\u001b[0m\u001b[0m\n\u001b[1;32m    152\u001b[0m       \u001b[0mfiltered_tb\u001b[0m \u001b[0;34m=\u001b[0m \u001b[0m_process_traceback_frames\u001b[0m\u001b[0;34m(\u001b[0m\u001b[0me\u001b[0m\u001b[0;34m.\u001b[0m\u001b[0m__traceback__\u001b[0m\u001b[0;34m)\u001b[0m\u001b[0;34m\u001b[0m\u001b[0;34m\u001b[0m\u001b[0m\n",
            "\u001b[0;32m/usr/local/lib/python3.7/dist-packages/tensorflow/python/eager/def_function.py\u001b[0m in \u001b[0;36m__call__\u001b[0;34m(self, *args, **kwds)\u001b[0m\n\u001b[1;32m    913\u001b[0m \u001b[0;34m\u001b[0m\u001b[0m\n\u001b[1;32m    914\u001b[0m       \u001b[0;32mwith\u001b[0m \u001b[0mOptionalXlaContext\u001b[0m\u001b[0;34m(\u001b[0m\u001b[0mself\u001b[0m\u001b[0;34m.\u001b[0m\u001b[0m_jit_compile\u001b[0m\u001b[0;34m)\u001b[0m\u001b[0;34m:\u001b[0m\u001b[0;34m\u001b[0m\u001b[0;34m\u001b[0m\u001b[0m\n\u001b[0;32m--> 915\u001b[0;31m         \u001b[0mresult\u001b[0m \u001b[0;34m=\u001b[0m \u001b[0mself\u001b[0m\u001b[0;34m.\u001b[0m\u001b[0m_call\u001b[0m\u001b[0;34m(\u001b[0m\u001b[0;34m*\u001b[0m\u001b[0margs\u001b[0m\u001b[0;34m,\u001b[0m \u001b[0;34m**\u001b[0m\u001b[0mkwds\u001b[0m\u001b[0;34m)\u001b[0m\u001b[0;34m\u001b[0m\u001b[0;34m\u001b[0m\u001b[0m\n\u001b[0m\u001b[1;32m    916\u001b[0m \u001b[0;34m\u001b[0m\u001b[0m\n\u001b[1;32m    917\u001b[0m       \u001b[0mnew_tracing_count\u001b[0m \u001b[0;34m=\u001b[0m \u001b[0mself\u001b[0m\u001b[0;34m.\u001b[0m\u001b[0mexperimental_get_tracing_count\u001b[0m\u001b[0;34m(\u001b[0m\u001b[0;34m)\u001b[0m\u001b[0;34m\u001b[0m\u001b[0;34m\u001b[0m\u001b[0m\n",
            "\u001b[0;32m/usr/local/lib/python3.7/dist-packages/tensorflow/python/eager/def_function.py\u001b[0m in \u001b[0;36m_call\u001b[0;34m(self, *args, **kwds)\u001b[0m\n\u001b[1;32m    945\u001b[0m       \u001b[0;31m# In this case we have created variables on the first call, so we run the\u001b[0m\u001b[0;34m\u001b[0m\u001b[0;34m\u001b[0m\u001b[0;34m\u001b[0m\u001b[0m\n\u001b[1;32m    946\u001b[0m       \u001b[0;31m# defunned version which is guaranteed to never create variables.\u001b[0m\u001b[0;34m\u001b[0m\u001b[0;34m\u001b[0m\u001b[0;34m\u001b[0m\u001b[0m\n\u001b[0;32m--> 947\u001b[0;31m       \u001b[0;32mreturn\u001b[0m \u001b[0mself\u001b[0m\u001b[0;34m.\u001b[0m\u001b[0m_stateless_fn\u001b[0m\u001b[0;34m(\u001b[0m\u001b[0;34m*\u001b[0m\u001b[0margs\u001b[0m\u001b[0;34m,\u001b[0m \u001b[0;34m**\u001b[0m\u001b[0mkwds\u001b[0m\u001b[0;34m)\u001b[0m  \u001b[0;31m# pylint: disable=not-callable\u001b[0m\u001b[0;34m\u001b[0m\u001b[0;34m\u001b[0m\u001b[0m\n\u001b[0m\u001b[1;32m    948\u001b[0m     \u001b[0;32melif\u001b[0m \u001b[0mself\u001b[0m\u001b[0;34m.\u001b[0m\u001b[0m_stateful_fn\u001b[0m \u001b[0;32mis\u001b[0m \u001b[0;32mnot\u001b[0m \u001b[0;32mNone\u001b[0m\u001b[0;34m:\u001b[0m\u001b[0;34m\u001b[0m\u001b[0;34m\u001b[0m\u001b[0m\n\u001b[1;32m    949\u001b[0m       \u001b[0;31m# Release the lock early so that multiple threads can perform the call\u001b[0m\u001b[0;34m\u001b[0m\u001b[0;34m\u001b[0m\u001b[0;34m\u001b[0m\u001b[0m\n",
            "\u001b[0;32m/usr/local/lib/python3.7/dist-packages/tensorflow/python/eager/function.py\u001b[0m in \u001b[0;36m__call__\u001b[0;34m(self, *args, **kwargs)\u001b[0m\n\u001b[1;32m   2955\u001b[0m        filtered_flat_args) = self._maybe_define_function(args, kwargs)\n\u001b[1;32m   2956\u001b[0m     return graph_function._call_flat(\n\u001b[0;32m-> 2957\u001b[0;31m         filtered_flat_args, captured_inputs=graph_function.captured_inputs)  # pylint: disable=protected-access\n\u001b[0m\u001b[1;32m   2958\u001b[0m \u001b[0;34m\u001b[0m\u001b[0m\n\u001b[1;32m   2959\u001b[0m   \u001b[0;34m@\u001b[0m\u001b[0mproperty\u001b[0m\u001b[0;34m\u001b[0m\u001b[0;34m\u001b[0m\u001b[0m\n",
            "\u001b[0;32m/usr/local/lib/python3.7/dist-packages/tensorflow/python/eager/function.py\u001b[0m in \u001b[0;36m_call_flat\u001b[0;34m(self, args, captured_inputs, cancellation_manager)\u001b[0m\n\u001b[1;32m   1852\u001b[0m       \u001b[0;31m# No tape is watching; skip to running the function.\u001b[0m\u001b[0;34m\u001b[0m\u001b[0;34m\u001b[0m\u001b[0;34m\u001b[0m\u001b[0m\n\u001b[1;32m   1853\u001b[0m       return self._build_call_outputs(self._inference_function.call(\n\u001b[0;32m-> 1854\u001b[0;31m           ctx, args, cancellation_manager=cancellation_manager))\n\u001b[0m\u001b[1;32m   1855\u001b[0m     forward_backward = self._select_forward_and_backward_functions(\n\u001b[1;32m   1856\u001b[0m         \u001b[0margs\u001b[0m\u001b[0;34m,\u001b[0m\u001b[0;34m\u001b[0m\u001b[0;34m\u001b[0m\u001b[0m\n",
            "\u001b[0;32m/usr/local/lib/python3.7/dist-packages/tensorflow/python/eager/function.py\u001b[0m in \u001b[0;36mcall\u001b[0;34m(self, ctx, args, cancellation_manager)\u001b[0m\n\u001b[1;32m    502\u001b[0m               \u001b[0minputs\u001b[0m\u001b[0;34m=\u001b[0m\u001b[0margs\u001b[0m\u001b[0;34m,\u001b[0m\u001b[0;34m\u001b[0m\u001b[0;34m\u001b[0m\u001b[0m\n\u001b[1;32m    503\u001b[0m               \u001b[0mattrs\u001b[0m\u001b[0;34m=\u001b[0m\u001b[0mattrs\u001b[0m\u001b[0;34m,\u001b[0m\u001b[0;34m\u001b[0m\u001b[0;34m\u001b[0m\u001b[0m\n\u001b[0;32m--> 504\u001b[0;31m               ctx=ctx)\n\u001b[0m\u001b[1;32m    505\u001b[0m         \u001b[0;32melse\u001b[0m\u001b[0;34m:\u001b[0m\u001b[0;34m\u001b[0m\u001b[0;34m\u001b[0m\u001b[0m\n\u001b[1;32m    506\u001b[0m           outputs = execute.execute_with_cancellation(\n",
            "\u001b[0;32m/usr/local/lib/python3.7/dist-packages/tensorflow/python/eager/execute.py\u001b[0m in \u001b[0;36mquick_execute\u001b[0;34m(op_name, num_outputs, inputs, attrs, ctx, name)\u001b[0m\n\u001b[1;32m     53\u001b[0m     \u001b[0mctx\u001b[0m\u001b[0;34m.\u001b[0m\u001b[0mensure_initialized\u001b[0m\u001b[0;34m(\u001b[0m\u001b[0;34m)\u001b[0m\u001b[0;34m\u001b[0m\u001b[0;34m\u001b[0m\u001b[0m\n\u001b[1;32m     54\u001b[0m     tensors = pywrap_tfe.TFE_Py_Execute(ctx._handle, device_name, op_name,\n\u001b[0;32m---> 55\u001b[0;31m                                         inputs, attrs, num_outputs)\n\u001b[0m\u001b[1;32m     56\u001b[0m   \u001b[0;32mexcept\u001b[0m \u001b[0mcore\u001b[0m\u001b[0;34m.\u001b[0m\u001b[0m_NotOkStatusException\u001b[0m \u001b[0;32mas\u001b[0m \u001b[0me\u001b[0m\u001b[0;34m:\u001b[0m\u001b[0;34m\u001b[0m\u001b[0;34m\u001b[0m\u001b[0m\n\u001b[1;32m     57\u001b[0m     \u001b[0;32mif\u001b[0m \u001b[0mname\u001b[0m \u001b[0;32mis\u001b[0m \u001b[0;32mnot\u001b[0m \u001b[0;32mNone\u001b[0m\u001b[0;34m:\u001b[0m\u001b[0;34m\u001b[0m\u001b[0;34m\u001b[0m\u001b[0m\n",
            "\u001b[0;31mKeyboardInterrupt\u001b[0m: "
          ]
        }
      ]
    },
    {
      "cell_type": "code",
      "source": [
        "total_train = 3*850\n",
        "f\"{total_train//3600} h, {total_train%3600//60} min, {total_train%3600%60} sec\""
      ],
      "metadata": {
        "colab": {
          "base_uri": "https://localhost:8080/",
          "height": 35
        },
        "id": "VBjcR9PSeuQf",
        "outputId": "5d469381-86d1-4d93-f3ba-81bb78d6f221"
      },
      "execution_count": null,
      "outputs": [
        {
          "output_type": "execute_result",
          "data": {
            "text/plain": [
              "'0 h, 42 min, 30 sec'"
            ],
            "application/vnd.google.colaboratory.intrinsic+json": {
              "type": "string"
            }
          },
          "metadata": {},
          "execution_count": 60
        }
      ]
    },
    {
      "cell_type": "code",
      "source": [
        "model.save_weights(\"Language_model_BiLSTM_mediumDS_02_SentencePiece.h5\")"
      ],
      "metadata": {
        "execution": {
          "iopub.status.busy": "2022-05-31T16:56:02.868258Z",
          "iopub.execute_input": "2022-05-31T16:56:02.868626Z",
          "iopub.status.idle": "2022-05-31T16:56:02.930007Z",
          "shell.execute_reply.started": "2022-05-31T16:56:02.868591Z",
          "shell.execute_reply": "2022-05-31T16:56:02.929184Z"
        },
        "trusted": true,
        "id": "kv58kjOnFswL"
      },
      "execution_count": null,
      "outputs": []
    },
    {
      "cell_type": "markdown",
      "source": [
        "### p2 - after 3 epochs"
      ],
      "metadata": {
        "id": "f0EumgbaZjl6"
      }
    },
    {
      "cell_type": "markdown",
      "source": [
        "#### Create Model"
      ],
      "metadata": {
        "id": "xavjGoAtdC9D"
      }
    },
    {
      "cell_type": "code",
      "source": [
        "model = Sequential()\n",
        "#model.add(Embedding(total_words, 100, input_length=max_sequence_len-1))\n",
        "model.add(Embedding(vocab_size, 100, input_length=max_sequence_len-1))\n",
        "model.add(Bidirectional(LSTM(150)))\n",
        "#model.add(Dense(total_words, activation='softmax'))\n",
        "model.add(Dense(vocab_size, activation='softmax'))\n",
        "#adam = Adam(lr=0.01)\n",
        "adam = Adam(learning_rate=0.01)\n",
        "model.compile(loss='categorical_crossentropy', optimizer=adam, metrics=['accuracy'])\n",
        "\n"
      ],
      "metadata": {
        "execution": {
          "iopub.status.busy": "2022-05-31T15:11:30.805813Z",
          "iopub.execute_input": "2022-05-31T15:11:30.806233Z",
          "iopub.status.idle": "2022-05-31T16:54:20.032727Z",
          "shell.execute_reply.started": "2022-05-31T15:11:30.806201Z",
          "shell.execute_reply": "2022-05-31T16:54:20.031645Z"
        },
        "trusted": true,
        "id": "IPR1Fy9IZmy8"
      },
      "execution_count": null,
      "outputs": []
    },
    {
      "cell_type": "markdown",
      "source": [
        "#### Load weights"
      ],
      "metadata": {
        "id": "VTbRR6ysczKl"
      }
    },
    {
      "cell_type": "code",
      "source": [
        "model_link = \"https://drive.google.com/file/d/11yHsxnDksId3slcC9AomL2-kevpN6Rsx/view?usp=sharing\"\n",
        "file_id= model_link.split('/')[-2]\n",
        "fn = 'Language_model_BiLSTM_mediumDS.h5'\n",
        "!wget --no-check-certificate 'https://docs.google.com/uc?export=download&id=''$file_id' -O '$fn'\n"
      ],
      "metadata": {
        "colab": {
          "base_uri": "https://localhost:8080/"
        },
        "outputId": "1b1ce951-62a2-4105-b0fc-7ac62859a5fc",
        "id": "0epE6BYBczKr"
      },
      "execution_count": null,
      "outputs": [
        {
          "output_type": "stream",
          "name": "stdout",
          "text": [
            "--2022-06-02 17:19:20--  https://docs.google.com/uc?export=download&id=11yHsxnDksId3slcC9AomL2-kevpN6Rsx\n",
            "Resolving docs.google.com (docs.google.com)... 142.251.107.100, 142.251.107.101, 142.251.107.113, ...\n",
            "Connecting to docs.google.com (docs.google.com)|142.251.107.100|:443... connected.\n",
            "HTTP request sent, awaiting response... 303 See Other\n",
            "Location: https://doc-0o-b0-docs.googleusercontent.com/docs/securesc/ha0ro937gcuc7l7deffksulhg5h7mbp1/s0kuhmqi4bead1ar20tdt8ccetbp78hj/1654190325000/17304979608001708681/*/11yHsxnDksId3slcC9AomL2-kevpN6Rsx?e=download [following]\n",
            "Warning: wildcards not supported in HTTP.\n",
            "--2022-06-02 17:19:23--  https://doc-0o-b0-docs.googleusercontent.com/docs/securesc/ha0ro937gcuc7l7deffksulhg5h7mbp1/s0kuhmqi4bead1ar20tdt8ccetbp78hj/1654190325000/17304979608001708681/*/11yHsxnDksId3slcC9AomL2-kevpN6Rsx?e=download\n",
            "Resolving doc-0o-b0-docs.googleusercontent.com (doc-0o-b0-docs.googleusercontent.com)... 173.194.218.132, 2607:f8b0:400c:c14::84\n",
            "Connecting to doc-0o-b0-docs.googleusercontent.com (doc-0o-b0-docs.googleusercontent.com)|173.194.218.132|:443... connected.\n",
            "HTTP request sent, awaiting response... 200 OK\n",
            "Length: 14439184 (14M) [application/octet-stream]\n",
            "Saving to: ‘Language_model_BiLSTM_mediumDS.h5’\n",
            "\n",
            "Language_model_BiLS 100%[===================>]  13.77M  17.0MB/s    in 0.8s    \n",
            "\n",
            "2022-06-02 17:19:25 (17.0 MB/s) - ‘Language_model_BiLSTM_mediumDS.h5’ saved [14439184/14439184]\n",
            "\n"
          ]
        }
      ]
    },
    {
      "cell_type": "markdown",
      "source": [
        "#### Load weights"
      ],
      "metadata": {
        "id": "l467be9Zqo1w"
      }
    },
    {
      "cell_type": "code",
      "source": [
        "model.load_weights(\"Language_model_BiLSTM_mediumDS_02_SentencePiece_01_15ep.h5\")\n"
      ],
      "metadata": {
        "execution": {
          "iopub.status.busy": "2022-05-31T17:00:39.100968Z",
          "iopub.execute_input": "2022-05-31T17:00:39.101311Z",
          "iopub.status.idle": "2022-05-31T17:00:39.122872Z",
          "shell.execute_reply.started": "2022-05-31T17:00:39.101281Z",
          "shell.execute_reply": "2022-05-31T17:00:39.121887Z"
        },
        "trusted": true,
        "id": "zpCQHbT6czKs"
      },
      "execution_count": null,
      "outputs": []
    },
    {
      "cell_type": "markdown",
      "source": [
        "#### Train model"
      ],
      "metadata": {
        "id": "uL6v7bGxhcaC"
      }
    },
    {
      "cell_type": "code",
      "source": [
        "history = model.fit(xs, ys, epochs=12, verbose=1)\n",
        "#print model.summary()\n",
        "print(model)"
      ],
      "metadata": {
        "colab": {
          "base_uri": "https://localhost:8080/"
        },
        "id": "aP6wHK9Fc6_T",
        "outputId": "80086f86-5b90-43e0-c900-67304839c1e7"
      },
      "execution_count": null,
      "outputs": [
        {
          "output_type": "stream",
          "name": "stdout",
          "text": [
            "Epoch 1/12\n",
            "2229/2229 [==============================] - 891s 398ms/step - loss: 5.1364 - accuracy: 0.2486\n",
            "Epoch 2/12\n",
            "2229/2229 [==============================] - 852s 382ms/step - loss: 4.3635 - accuracy: 0.2701\n",
            "Epoch 3/12\n",
            "2229/2229 [==============================] - 859s 386ms/step - loss: 3.9602 - accuracy: 0.2910\n",
            "Epoch 4/12\n",
            "2229/2229 [==============================] - 857s 385ms/step - loss: 3.7052 - accuracy: 0.3092\n",
            "Epoch 5/12\n",
            "2229/2229 [==============================] - 899s 403ms/step - loss: 3.5591 - accuracy: 0.3214\n",
            "Epoch 6/12\n",
            "2229/2229 [==============================] - 963s 432ms/step - loss: 3.4567 - accuracy: 0.3311\n",
            "Epoch 7/12\n",
            "2229/2229 [==============================] - 864s 388ms/step - loss: 3.3783 - accuracy: 0.3378\n",
            "Epoch 8/12\n",
            "2229/2229 [==============================] - 865s 388ms/step - loss: 3.2952 - accuracy: 0.3458\n",
            "Epoch 9/12\n",
            "2229/2229 [==============================] - 839s 376ms/step - loss: 3.2342 - accuracy: 0.3525\n",
            "Epoch 10/12\n",
            "2229/2229 [==============================] - 889s 399ms/step - loss: 3.1808 - accuracy: 0.3609\n",
            "Epoch 11/12\n",
            "2229/2229 [==============================] - 882s 396ms/step - loss: 3.1306 - accuracy: 0.3665\n",
            "Epoch 12/12\n",
            "2229/2229 [==============================] - 901s 404ms/step - loss: 3.0963 - accuracy: 0.3720\n",
            "<keras.engine.sequential.Sequential object at 0x7f11c9899f50>\n"
          ]
        }
      ]
    },
    {
      "cell_type": "markdown",
      "source": [
        "V I without SentencePiece - after 50 epohcs by 123sec each epoch (Kaggle) & 1 epoch 277sec(Colab)\n",
        "\n",
        "```\n",
        "1515/1515 [==============================] - 277s 180ms/step - loss: 2.5162 - accuracy: 0.4788\n",
        "```"
      ],
      "metadata": {
        "id": "80KyCm3M0TwM"
      }
    },
    {
      "cell_type": "code",
      "source": [
        "total_train = 3*850+ 12*850\n",
        "print(f\"{total_train//3600} h, {total_train%3600//60} min, {total_train%3600%60} sec\")"
      ],
      "metadata": {
        "colab": {
          "base_uri": "https://localhost:8080/"
        },
        "id": "JYB0hSfoq3jC",
        "outputId": "fec4880c-f8e4-4562-e47e-487e2f10e33c"
      },
      "execution_count": null,
      "outputs": [
        {
          "output_type": "stream",
          "name": "stdout",
          "text": [
            "3 h, 32 min, 30 sec\n"
          ]
        }
      ]
    },
    {
      "cell_type": "markdown",
      "source": [
        "#### Save weights"
      ],
      "metadata": {
        "id": "hqhIYF2dq5DF"
      }
    },
    {
      "cell_type": "code",
      "source": [
        "model.save_weights(\"Language_model_BiLSTM_mediumDS_02_SentencePiece_01_15ep.h5\")"
      ],
      "metadata": {
        "execution": {
          "iopub.status.busy": "2022-05-31T16:56:02.868258Z",
          "iopub.execute_input": "2022-05-31T16:56:02.868626Z",
          "iopub.status.idle": "2022-05-31T16:56:02.930007Z",
          "shell.execute_reply.started": "2022-05-31T16:56:02.868591Z",
          "shell.execute_reply": "2022-05-31T16:56:02.929184Z"
        },
        "trusted": true,
        "id": "MY_4wBl-q3jC"
      },
      "execution_count": null,
      "outputs": []
    },
    {
      "cell_type": "code",
      "source": [
        "from google.colab import drive\n",
        "drive.mount('/content/drive')"
      ],
      "metadata": {
        "colab": {
          "base_uri": "https://localhost:8080/"
        },
        "id": "9ohuy9sID_r0",
        "outputId": "3a6690f7-fa18-41d6-b637-ba940934afa9"
      },
      "execution_count": null,
      "outputs": [
        {
          "output_type": "stream",
          "name": "stdout",
          "text": [
            "Mounted at /content/drive\n"
          ]
        }
      ]
    },
    {
      "cell_type": "code",
      "source": [
        "save_path = '/content/drive/MyDrive/Colab Notebooks/_My_Projects/Language_Modeling/'\n",
        "save_path = '/content/drive/MyDrive/Colab Notebooks/_My_Projects/Language_modeling'\n",
        "!cp Language_model_BiLSTM_mediumDS_02_SentencePiece_01_15ep.h5 '$save_path'"
      ],
      "metadata": {
        "id": "VxWK_f14EC0g"
      },
      "execution_count": null,
      "outputs": []
    },
    {
      "cell_type": "markdown",
      "source": [
        "<a name=\"acc_2\"></a>\n",
        "## Plotting model accuracy and loss"
      ],
      "metadata": {
        "id": "8hIXl8t0FswM"
      }
    },
    {
      "cell_type": "code",
      "source": [
        "import matplotlib.pyplot as plt\n",
        "\n",
        "def plot_graphs(history, string):\n",
        "    plt.plot(history.history[string])\n",
        "    plt.xlabel(\"Epochs\")\n",
        "    plt.ylabel(string)\n",
        "    plt.show()"
      ],
      "metadata": {
        "execution": {
          "iopub.status.busy": "2022-05-31T16:56:07.518439Z",
          "iopub.execute_input": "2022-05-31T16:56:07.519044Z",
          "iopub.status.idle": "2022-05-31T16:56:07.523497Z",
          "shell.execute_reply.started": "2022-05-31T16:56:07.519006Z",
          "shell.execute_reply": "2022-05-31T16:56:07.52284Z"
        },
        "trusted": true,
        "id": "lsVJaZxnFswM"
      },
      "execution_count": null,
      "outputs": []
    },
    {
      "cell_type": "code",
      "source": [
        "plot_graphs(history, 'accuracy')"
      ],
      "metadata": {
        "execution": {
          "iopub.status.busy": "2022-05-31T16:56:16.423418Z",
          "iopub.execute_input": "2022-05-31T16:56:16.423964Z",
          "iopub.status.idle": "2022-05-31T16:56:16.614414Z",
          "shell.execute_reply.started": "2022-05-31T16:56:16.423912Z",
          "shell.execute_reply": "2022-05-31T16:56:16.613369Z"
        },
        "trusted": true,
        "colab": {
          "base_uri": "https://localhost:8080/",
          "height": 279
        },
        "id": "gIEtXumNFswM",
        "outputId": "750df4fd-9199-44c6-b1d5-1a984d2380f3"
      },
      "execution_count": null,
      "outputs": [
        {
          "output_type": "display_data",
          "data": {
            "text/plain": [
              "<Figure size 432x288 with 1 Axes>"
            ],
            "image/png": "[encoded data removed]"
          },
          "metadata": {
            "needs_background": "light"
          }
        }
      ]
    },
    {
      "cell_type": "code",
      "source": [
        "plot_graphs(history, 'loss')"
      ],
      "metadata": {
        "execution": {
          "iopub.status.busy": "2022-05-31T16:56:21.809369Z",
          "iopub.execute_input": "2022-05-31T16:56:21.809951Z",
          "iopub.status.idle": "2022-05-31T16:56:21.929292Z",
          "shell.execute_reply.started": "2022-05-31T16:56:21.809901Z",
          "shell.execute_reply": "2022-05-31T16:56:21.92847Z"
        },
        "trusted": true,
        "colab": {
          "base_uri": "https://localhost:8080/",
          "height": 279
        },
        "id": "W9jGicVAFswM",
        "outputId": "2e056acf-81da-4c81-8fd8-475b4d1334a1"
      },
      "execution_count": null,
      "outputs": [
        {
          "output_type": "display_data",
          "data": {
            "text/plain": [
              "<Figure size 432x288 with 1 Axes>"
            ],
            "image/png": "[encoded data removed]"
          },
          "metadata": {
            "needs_background": "light"
          }
        }
      ]
    },
    {
      "cell_type": "markdown",
      "source": [
        "<a name=\"predict_next_word\"></a>\n",
        "## Predicting next word of title - throuth word_pieces"
      ],
      "metadata": {
        "id": "m9-QRKe3FswM"
      }
    },
    {
      "cell_type": "code",
      "source": [
        "vocab = {sp.IdToPiece(i): i for i in range(sp.GetPieceSize())}\n",
        "vocab_size = sp.vocab_size()"
      ],
      "metadata": {
        "id": "2M-yy1Obtnhh"
      },
      "execution_count": null,
      "outputs": []
    },
    {
      "cell_type": "code",
      "source": [
        "sp.id_to_piece(4), sp.id_to_piece(20)"
      ],
      "metadata": {
        "colab": {
          "base_uri": "https://localhost:8080/"
        },
        "id": "E08lELlTLZ7s",
        "outputId": "37544112-c6ef-458c-8117-64ecb7dac3c8"
      },
      "execution_count": null,
      "outputs": [
        {
          "output_type": "execute_result",
          "data": {
            "text/plain": [
              "('s', '?')"
            ]
          },
          "metadata": {},
          "execution_count": 140
        }
      ]
    },
    {
      "cell_type": "code",
      "source": [
        "seed_text = \"implementation of\"\n",
        "seed_text = \"implementation of a fear\"\n",
        "seed_text = \"how to\"\n",
        "seed_text = \"How to Use\"\n",
        "seed_text = \"Databricks: How to Save File\"\n",
        "seed_text = \"How to Save File\"\n",
        "next_words = 2\n",
        "max_pieces = 20\n",
        "\n",
        "output_words = \"\"\n",
        "\n",
        "for _ in range(next_words):\n",
        "    #token_list = tokenizer.texts_to_sequences([seed_text])[0]\n",
        "    output_word = \"\"\n",
        "    last_piece_is_beg_of_word = False\n",
        "    for i in range(max_pieces):\n",
        "        token_list = sp.encode_as_ids(seed_text + output_word.replace('_',' '))\n",
        "        token_list = pad_sequences([token_list], maxlen=max_sequence_len-1, padding='pre')\n",
        "        #predicted = model.predict_classes(token_list, verbose=0)\n",
        "        predicted_probs = model.predict(token_list, verbose=0)\n",
        "        #print(predicted_probs.shape)\n",
        "        predicted = np.argmax(predicted_probs)\n",
        "        #print(predicted)\n",
        "        #output_word = sp.id_to_piece(predicted)\n",
        "        output_piece = sp.id_to_piece(int(predicted))\n",
        "        print(predicted, output_piece)\n",
        "        if output_piece.endswith(\"▁\") or output_piece.endswith(\"[EOS]\"):\n",
        "            output_word += output_piece.replace('▁',' ')\n",
        "            break\n",
        "        elif last_piece_is_beg_of_word and output_piece.find('▁')>-1:\n",
        "            output_word += output_piece.replace('▁',' ')\n",
        "            break\n",
        "        else:\n",
        "            output_word += output_piece.replace('▁',' ')\n",
        "            if output_piece.find('▁')>-1:\n",
        "                last_piece_is_beg_of_word = True\n",
        "        print(i, f\"output_word: {output_word}\")\n",
        "    output_words += \" \" + output_word.replace('▁',' ')\n",
        "    print(i, f\"output_words: {output_words}\")\n",
        "\n",
        "print(seed_text + output_words)"
      ],
      "metadata": {
        "execution": {
          "iopub.status.busy": "2022-05-31T17:16:01.085369Z",
          "iopub.execute_input": "2022-05-31T17:16:01.085714Z",
          "iopub.status.idle": "2022-05-31T17:16:01.192536Z",
          "shell.execute_reply.started": "2022-05-31T17:16:01.085683Z",
          "shell.execute_reply": "2022-05-31T17:16:01.19152Z"
        },
        "trusted": true,
        "colab": {
          "base_uri": "https://localhost:8080/"
        },
        "id": "Ga4990D5FswM",
        "outputId": "9af478a6-64f1-4f94-c591-9ad3f0010b63"
      },
      "execution_count": null,
      "outputs": [
        {
          "output_type": "stream",
          "name": "stdout",
          "text": [
            "4 s\n",
            "0 output_word: s\n",
            "89 ▁About\n",
            "1 output_word: s About\n",
            "24 ▁Your\n",
            "2 output_words:  s About Your\n",
            "4 s\n",
            "0 output_word: s\n",
            "89 ▁About\n",
            "1 output_word: s About\n",
            "24 ▁Your\n",
            "2 output_words:  s About Your s About Your\n",
            "How to Save File s About Your s About Your\n"
          ]
        }
      ]
    },
    {
      "cell_type": "markdown",
      "source": [
        "<a name=\"SentencePiece\"></a>\n",
        "# **with SentencePiece - v II - Vocab_size=1000**"
      ],
      "metadata": {
        "id": "7c-n0b1WOgXs"
      }
    },
    {
      "cell_type": "markdown",
      "source": [
        "## Setup & Import"
      ],
      "metadata": {
        "id": "kF1mO1fGOgXy"
      }
    },
    {
      "cell_type": "code",
      "source": [
        "!pip install sentencepiece"
      ],
      "metadata": {
        "execution": {
          "iopub.status.busy": "2022-06-01T18:46:31.252149Z",
          "iopub.execute_input": "2022-06-01T18:46:31.253037Z",
          "iopub.status.idle": "2022-06-01T18:46:41.352285Z",
          "shell.execute_reply.started": "2022-06-01T18:46:31.252897Z",
          "shell.execute_reply": "2022-06-01T18:46:41.35038Z"
        },
        "trusted": true,
        "colab": {
          "base_uri": "https://localhost:8080/"
        },
        "outputId": "f4050f65-d6f4-4d34-aea2-4c56bf6b4c3c",
        "id": "9f_7eEEqOgXz"
      },
      "execution_count": null,
      "outputs": [
        {
          "output_type": "stream",
          "name": "stdout",
          "text": [
            "Looking in indexes: https://pypi.org/simple, https://us-python.pkg.dev/colab-wheels/public/simple/\n",
            "Collecting sentencepiece\n",
            "  Downloading sentencepiece-0.1.96-cp37-cp37m-manylinux_2_17_x86_64.manylinux2014_x86_64.whl (1.2 MB)\n",
            "\u001b[K     |████████████████████████████████| 1.2 MB 4.7 MB/s \n",
            "\u001b[?25hInstalling collected packages: sentencepiece\n",
            "Successfully installed sentencepiece-0.1.96\n"
          ]
        }
      ]
    },
    {
      "cell_type": "code",
      "source": [
        "import pandas as pd\n",
        "import os\n",
        "import numpy as np\n",
        "\n",
        "import tensorflow as tf\n",
        "from tensorflow.keras.preprocessing.sequence import pad_sequences\n",
        "from tensorflow.keras.layers import Embedding, LSTM, Dense, Bidirectional\n",
        "from tensorflow.keras.preprocessing.text import Tokenizer\n",
        "from tensorflow.keras.models import Sequential\n",
        "from tensorflow.keras.optimizers import Adam\n",
        "import sentencepiece as spm"
      ],
      "metadata": {
        "_uuid": "8f2839f25d086af736a60e9eeb907d3b93b6e0e5",
        "_cell_guid": "b1076dfc-b9ad-4769-8c92-a6c4dae69d19",
        "execution": {
          "iopub.status.busy": "2022-05-31T14:50:40.994879Z",
          "iopub.execute_input": "2022-05-31T14:50:40.995524Z",
          "iopub.status.idle": "2022-05-31T14:50:41.001389Z",
          "shell.execute_reply.started": "2022-05-31T14:50:40.995477Z",
          "shell.execute_reply": "2022-05-31T14:50:41.000588Z"
        },
        "trusted": true,
        "id": "QHTPoOfOOgXz"
      },
      "execution_count": null,
      "outputs": []
    },
    {
      "cell_type": "markdown",
      "source": [
        "## Data prepare"
      ],
      "metadata": {
        "id": "crMTmH24OgXz"
      }
    },
    {
      "cell_type": "markdown",
      "source": [
        "#### Load data"
      ],
      "metadata": {
        "id": "PmR2Cq5ROgX0"
      }
    },
    {
      "cell_type": "code",
      "source": [
        "data_link = \"https://drive.google.com/file/d/1vQbu1XmenVtNYSvqZmiwAo2jzFWZCsI8/view?usp=sharing\"\n",
        "file_id= data_link.split('/')[-2]\n",
        "fn = 'medium_data.csv'\n",
        "!wget --no-check-certificate 'https://docs.google.com/uc?export=download&id=''$file_id' -O '$fn'\n"
      ],
      "metadata": {
        "colab": {
          "base_uri": "https://localhost:8080/"
        },
        "outputId": "55a5fc4f-e4de-481f-cd5a-8227973007ef",
        "id": "ieLAx_WUOgX0"
      },
      "execution_count": null,
      "outputs": [
        {
          "output_type": "stream",
          "name": "stdout",
          "text": [
            "--2022-06-02 16:02:47--  https://docs.google.com/uc?export=download&id=1vQbu1XmenVtNYSvqZmiwAo2jzFWZCsI8\n",
            "Resolving docs.google.com (docs.google.com)... 142.251.107.113, 142.251.107.139, 142.251.107.101, ...\n",
            "Connecting to docs.google.com (docs.google.com)|142.251.107.113|:443... connected.\n",
            "HTTP request sent, awaiting response... 303 See Other\n",
            "Location: https://doc-14-b0-docs.googleusercontent.com/docs/securesc/ha0ro937gcuc7l7deffksulhg5h7mbp1/ad7or30hcd35ars5dndq0oo1g5s2dbpl/1654185750000/17304979608001708681/*/1vQbu1XmenVtNYSvqZmiwAo2jzFWZCsI8?e=download [following]\n",
            "Warning: wildcards not supported in HTTP.\n",
            "--2022-06-02 16:02:48--  https://doc-14-b0-docs.googleusercontent.com/docs/securesc/ha0ro937gcuc7l7deffksulhg5h7mbp1/ad7or30hcd35ars5dndq0oo1g5s2dbpl/1654185750000/17304979608001708681/*/1vQbu1XmenVtNYSvqZmiwAo2jzFWZCsI8?e=download\n",
            "Resolving doc-14-b0-docs.googleusercontent.com (doc-14-b0-docs.googleusercontent.com)... 173.194.216.132, 2607:f8b0:400c:c12::84\n",
            "Connecting to doc-14-b0-docs.googleusercontent.com (doc-14-b0-docs.googleusercontent.com)|173.194.216.132|:443... connected.\n",
            "HTTP request sent, awaiting response... 200 OK\n",
            "Length: 1428382 (1.4M) [text/csv]\n",
            "Saving to: ‘medium_data.csv’\n",
            "\n",
            "medium_data.csv     100%[===================>]   1.36M  --.-KB/s    in 0.009s  \n",
            "\n",
            "2022-06-02 16:02:48 (156 MB/s) - ‘medium_data.csv’ saved [1428382/1428382]\n",
            "\n"
          ]
        }
      ]
    },
    {
      "cell_type": "code",
      "source": [
        "#medium_data = pd.read_csv('../input/medium-articles-dataset/medium_data.csv') # Kaggle\n",
        "medium_data = pd.read_csv('medium_data.csv') # Colab\n",
        "medium_data.head()"
      ],
      "metadata": {
        "execution": {
          "iopub.status.busy": "2022-05-31T14:50:49.294905Z",
          "iopub.execute_input": "2022-05-31T14:50:49.295657Z",
          "iopub.status.idle": "2022-05-31T14:50:49.349944Z",
          "shell.execute_reply.started": "2022-05-31T14:50:49.295603Z",
          "shell.execute_reply": "2022-05-31T14:50:49.348937Z"
        },
        "trusted": true,
        "colab": {
          "base_uri": "https://localhost:8080/"
        },
        "outputId": "c3a44c5e-e05b-497c-a52f-0e42652c7963",
        "id": "ZlYbLrrTOgX0"
      },
      "execution_count": null,
      "outputs": [
        {
          "output_type": "execute_result",
          "data": {
            "text/plain": [
              "   id                                                url  \\\n",
              "0   1  https://towardsdatascience.com/a-beginners-gui...   \n",
              "1   2  https://towardsdatascience.com/hands-on-graph-...   \n",
              "2   3  https://towardsdatascience.com/how-to-use-ggpl...   \n",
              "3   4  https://towardsdatascience.com/databricks-how-...   \n",
              "4   5  https://towardsdatascience.com/a-step-by-step-...   \n",
              "\n",
              "                                               title  \\\n",
              "0  A Beginner’s Guide to Word Embedding with Gens...   \n",
              "1  Hands-on Graph Neural Networks with PyTorch & ...   \n",
              "2                       How to Use ggplot2 in Python   \n",
              "3  Databricks: How to Save Files in CSV on Your L...   \n",
              "4  A Step-by-Step Implementation of Gradient Desc...   \n",
              "\n",
              "                                  subtitle   image  claps responses  \\\n",
              "0                                      NaN   1.png    850         8   \n",
              "1                                      NaN   2.png   1100        11   \n",
              "2         A Grammar of Graphics for Python   3.png    767         1   \n",
              "3  When I work on Python projects dealing…  4.jpeg    354         0   \n",
              "4          One example of building neural…  5.jpeg    211         3   \n",
              "\n",
              "   reading_time           publication        date  \n",
              "0             8  Towards Data Science  2019-05-30  \n",
              "1             9  Towards Data Science  2019-05-30  \n",
              "2             5  Towards Data Science  2019-05-30  \n",
              "3             4  Towards Data Science  2019-05-30  \n",
              "4             4  Towards Data Science  2019-05-30  "
            ],
            "text/html": [
              "\n",
              "  <div id=\"df-c984c700-585e-4c7c-966b-c92a8cc9ad10\">\n",
              "    <div class=\"colab-df-container\">\n",
              "      <div>\n",
              "<style scoped>\n",
              "    .dataframe tbody tr th:only-of-type {\n",
              "        vertical-align: middle;\n",
              "    }\n",
              "\n",
              "    .dataframe tbody tr th {\n",
              "        vertical-align: top;\n",
              "    }\n",
              "\n",
              "    .dataframe thead th {\n",
              "        text-align: right;\n",
              "    }\n",
              "</style>\n",
              "<table border=\"1\" class=\"dataframe\">\n",
              "  <thead>\n",
              "    <tr style=\"text-align: right;\">\n",
              "      <th></th>\n",
              "      <th>id</th>\n",
              "      <th>url</th>\n",
              "      <th>title</th>\n",
              "      <th>subtitle</th>\n",
              "      <th>image</th>\n",
              "      <th>claps</th>\n",
              "      <th>responses</th>\n",
              "      <th>reading_time</th>\n",
              "      <th>publication</th>\n",
              "      <th>date</th>\n",
              "    </tr>\n",
              "  </thead>\n",
              "  <tbody>\n",
              "    <tr>\n",
              "      <th>0</th>\n",
              "      <td>1</td>\n",
              "      <td>https://towardsdatascience.com/a-beginners-gui...</td>\n",
              "      <td>A Beginner’s Guide to Word Embedding with Gens...</td>\n",
              "      <td>NaN</td>\n",
              "      <td>1.png</td>\n",
              "      <td>850</td>\n",
              "      <td>8</td>\n",
              "      <td>8</td>\n",
              "      <td>Towards Data Science</td>\n",
              "      <td>2019-05-30</td>\n",
              "    </tr>\n",
              "    <tr>\n",
              "      <th>1</th>\n",
              "      <td>2</td>\n",
              "      <td>https://towardsdatascience.com/hands-on-graph-...</td>\n",
              "      <td>Hands-on Graph Neural Networks with PyTorch &amp; ...</td>\n",
              "      <td>NaN</td>\n",
              "      <td>2.png</td>\n",
              "      <td>1100</td>\n",
              "      <td>11</td>\n",
              "      <td>9</td>\n",
              "      <td>Towards Data Science</td>\n",
              "      <td>2019-05-30</td>\n",
              "    </tr>\n",
              "    <tr>\n",
              "      <th>2</th>\n",
              "      <td>3</td>\n",
              "      <td>https://towardsdatascience.com/how-to-use-ggpl...</td>\n",
              "      <td>How to Use ggplot2 in Python</td>\n",
              "      <td>A Grammar of Graphics for Python</td>\n",
              "      <td>3.png</td>\n",
              "      <td>767</td>\n",
              "      <td>1</td>\n",
              "      <td>5</td>\n",
              "      <td>Towards Data Science</td>\n",
              "      <td>2019-05-30</td>\n",
              "    </tr>\n",
              "    <tr>\n",
              "      <th>3</th>\n",
              "      <td>4</td>\n",
              "      <td>https://towardsdatascience.com/databricks-how-...</td>\n",
              "      <td>Databricks: How to Save Files in CSV on Your L...</td>\n",
              "      <td>When I work on Python projects dealing…</td>\n",
              "      <td>4.jpeg</td>\n",
              "      <td>354</td>\n",
              "      <td>0</td>\n",
              "      <td>4</td>\n",
              "      <td>Towards Data Science</td>\n",
              "      <td>2019-05-30</td>\n",
              "    </tr>\n",
              "    <tr>\n",
              "      <th>4</th>\n",
              "      <td>5</td>\n",
              "      <td>https://towardsdatascience.com/a-step-by-step-...</td>\n",
              "      <td>A Step-by-Step Implementation of Gradient Desc...</td>\n",
              "      <td>One example of building neural…</td>\n",
              "      <td>5.jpeg</td>\n",
              "      <td>211</td>\n",
              "      <td>3</td>\n",
              "      <td>4</td>\n",
              "      <td>Towards Data Science</td>\n",
              "      <td>2019-05-30</td>\n",
              "    </tr>\n",
              "  </tbody>\n",
              "</table>\n",
              "</div>\n",
              "      <button class=\"colab-df-convert\" onclick=\"convertToInteractive('df-c984c700-585e-4c7c-966b-c92a8cc9ad10')\"\n",
              "              title=\"Convert this dataframe to an interactive table.\"\n",
              "              style=\"display:none;\">\n",
              "        \n",
              "  <svg xmlns=\"http://www.w3.org/2000/svg\" height=\"24px\"viewBox=\"0 0 24 24\"\n",
              "       width=\"24px\">\n",
              "    <path d=\"M0 0h24v24H0V0z\" fill=\"none\"/>\n",
              "    <path d=\"M18.56 5.44l.94 2.06.94-2.06 2.06-.94-2.06-.94-.94-2.06-.94 2.06-2.06.94zm-11 1L8.5 8.5l.94-2.06 2.06-.94-2.06-.94L8.5 2.5l-.94 2.06-2.06.94zm10 10l.94 2.06.94-2.06 2.06-.94-2.06-.94-.94-2.06-.94 2.06-2.06.94z\"/><path d=\"M17.41 7.96l-1.37-1.37c-.4-.4-.92-.59-1.43-.59-.52 0-1.04.2-1.43.59L10.3 9.45l-7.72 7.72c-.78.78-.78 2.05 0 2.83L4 21.41c.39.39.9.59 1.41.59.51 0 1.02-.2 1.41-.59l7.78-7.78 2.81-2.81c.8-.78.8-2.07 0-2.86zM5.41 20L4 18.59l7.72-7.72 1.47 1.35L5.41 20z\"/>\n",
              "  </svg>\n",
              "      </button>\n",
              "      \n",
              "  <style>\n",
              "    .colab-df-container {\n",
              "      display:flex;\n",
              "      flex-wrap:wrap;\n",
              "      gap: 12px;\n",
              "    }\n",
              "\n",
              "    .colab-df-convert {\n",
              "      background-color: #E8F0FE;\n",
              "      border: none;\n",
              "      border-radius: 50%;\n",
              "      cursor: pointer;\n",
              "      display: none;\n",
              "      fill: #1967D2;\n",
              "      height: 32px;\n",
              "      padding: 0 0 0 0;\n",
              "      width: 32px;\n",
              "    }\n",
              "\n",
              "    .colab-df-convert:hover {\n",
              "      background-color: #E2EBFA;\n",
              "      box-shadow: 0px 1px 2px rgba(60, 64, 67, 0.3), 0px 1px 3px 1px rgba(60, 64, 67, 0.15);\n",
              "      fill: #174EA6;\n",
              "    }\n",
              "\n",
              "    [theme=dark] .colab-df-convert {\n",
              "      background-color: #3B4455;\n",
              "      fill: #D2E3FC;\n",
              "    }\n",
              "\n",
              "    [theme=dark] .colab-df-convert:hover {\n",
              "      background-color: #434B5C;\n",
              "      box-shadow: 0px 1px 3px 1px rgba(0, 0, 0, 0.15);\n",
              "      filter: drop-shadow(0px 1px 2px rgba(0, 0, 0, 0.3));\n",
              "      fill: #FFFFFF;\n",
              "    }\n",
              "  </style>\n",
              "\n",
              "      <script>\n",
              "        const buttonEl =\n",
              "          document.querySelector('#df-c984c700-585e-4c7c-966b-c92a8cc9ad10 button.colab-df-convert');\n",
              "        buttonEl.style.display =\n",
              "          google.colab.kernel.accessAllowed ? 'block' : 'none';\n",
              "\n",
              "        async function convertToInteractive(key) {\n",
              "          const element = document.querySelector('#df-c984c700-585e-4c7c-966b-c92a8cc9ad10');\n",
              "          const dataTable =\n",
              "            await google.colab.kernel.invokeFunction('convertToInteractive',\n",
              "                                                     [key], {});\n",
              "          if (!dataTable) return;\n",
              "\n",
              "          const docLinkHtml = 'Like what you see? Visit the ' +\n",
              "            '<a target=\"_blank\" href=https://colab.research.google.com/notebooks/data_table.ipynb>data table notebook</a>'\n",
              "            + ' to learn more about interactive tables.';\n",
              "          element.innerHTML = '';\n",
              "          dataTable['output_type'] = 'display_data';\n",
              "          await google.colab.output.renderOutput(dataTable, element);\n",
              "          const docLink = document.createElement('div');\n",
              "          docLink.innerHTML = docLinkHtml;\n",
              "          element.appendChild(docLink);\n",
              "        }\n",
              "      </script>\n",
              "    </div>\n",
              "  </div>\n",
              "  "
            ]
          },
          "metadata": {},
          "execution_count": 2
        }
      ]
    },
    {
      "cell_type": "markdown",
      "source": [
        "<a name=\"remv\"></a>\n",
        "#### Removing unwanted characters and words in titles\n",
        "\n",
        "Looking at titles, we can see there are some of unwanted characters and words in it which can not be useful for us to predict infact it might decrease our model accuracy so we have to remove it."
      ],
      "metadata": {
        "id": "HKMg1EZsOgX0"
      }
    },
    {
      "cell_type": "code",
      "source": [
        "medium_data['title'] = medium_data['title'].apply(lambda x: x.replace(u'\\xa0',u' '))\n",
        "medium_data['title'] = medium_data['title'].apply(lambda x: x.replace('\\u200a',' '))\n",
        "medium_data['title'] = medium_data['title'].apply(lambda x: x.lower())"
      ],
      "metadata": {
        "execution": {
          "iopub.status.busy": "2022-05-31T14:51:04.377174Z",
          "iopub.execute_input": "2022-05-31T14:51:04.377769Z",
          "iopub.status.idle": "2022-05-31T14:51:04.38892Z",
          "shell.execute_reply.started": "2022-05-31T14:51:04.377717Z",
          "shell.execute_reply": "2022-05-31T14:51:04.387839Z"
        },
        "trusted": true,
        "id": "lWmGjq3sOgX0"
      },
      "execution_count": null,
      "outputs": []
    },
    {
      "cell_type": "code",
      "source": [
        "medium_data['title'].to_csv('medium_data.txt', index=False, header=None )"
      ],
      "metadata": {
        "id": "hS8uenWEOgX0"
      },
      "execution_count": null,
      "outputs": []
    },
    {
      "cell_type": "markdown",
      "source": [
        "```\n",
        "tokenizer = Tokenizer(oov_token='<oov>') # For those words which are not found in word_index\n",
        "tokenizer.fit_on_texts(medium_data['title'])\n",
        "total_words = len(tokenizer.word_index) + 1\n",
        "\n",
        "print(\"Total number of words: \", total_words)\n",
        "print(\"Word: ID\")\n",
        "print(\"------------\")\n",
        "print(\"<oov>: \", tokenizer.word_index['<oov>'])\n",
        "print(\"Strong: \", tokenizer.word_index['strong'])\n",
        "print(\"And: \", tokenizer.word_index['and'])\n",
        "print(\"Consumption: \", tokenizer.word_index['consumption'])\n",
        "```"
      ],
      "metadata": {
        "id": "U2AqghVqOgX1"
      }
    },
    {
      "cell_type": "markdown",
      "source": [
        "<a name=\"token\"></a>\n",
        "#### Tokenzation\n",
        "\n",
        "Tokenzaion is the process in which we provide an unique id to all the words and make a word index or we can say vocabulary."
      ],
      "metadata": {
        "id": "jGdTmACFOgX1"
      }
    },
    {
      "cell_type": "code",
      "source": [
        "# by example https://colab.research.google.com/github/google/sentencepiece/blob/master/python/sentencepiece_python_module_example.ipynb#scrollTo=ee9W6wGnVteW\n",
        "# by End-to-End ASR SpeechBrain\n",
        "#sp.load(\"/content/speechbrain/templates/speech_recognition/Tokenizer/save/1000_unigram.model\")\n",
        "\n",
        "#import torch\n",
        "import sentencepiece as spm\n",
        "sp = spm.SentencePieceProcessor()\n"
      ],
      "metadata": {
        "id": "q2NYgQD8OgX1"
      },
      "execution_count": null,
      "outputs": []
    },
    {
      "cell_type": "code",
      "source": [
        "#spm.SentencePieceTrainer.train('--input=botchan.txt --vocab_size=2000 --model_prefix=m --pad_id=0 --unk_id=1 --bos_id=2 --eos_id=3 --pad_piece=[PAD] --unk_piece=[UNK] --bos_piece=[BOS] --eos_piece=[EOS]')\n",
        "#spm.SentencePieceTrainer.train('--input=medium_data.txt --vocab_size=9000 --model_prefix=m --pad_id=0 --unk_id=1 --bos_id=2 --eos_id=3 --pad_piece=[PAD] --unk_piece=[UNK] --bos_piece=[BOS] --eos_piece=[EOS]')\n",
        "spm.SentencePieceTrainer.train('--input=medium_data.txt --vocab_size=1000 --model_prefix=tokenizer --pad_id=0 --unk_id=1 --bos_id=2 --eos_id=3 --pad_piece=[PAD] --unk_piece=[UNK] --bos_piece=[BOS] --eos_piece=[EOS]')\n",
        "sp = spm.SentencePieceProcessor()\n",
        "sp.load('tokenizer.model')\n",
        "\n",
        "# <unk>=0, <s>=1, </s>=2, <sep>=3, <cls>=4\n",
        "print('bos=', sp.bos_id())\n",
        "print('eos=', sp.eos_id())\n",
        "print('unk=', sp.unk_id())\n",
        "print('pad=', sp.pad_id())  # disabled by default\n",
        "\n",
        "for id in range(4):\n",
        "    print(sp.id_to_piece(id), sp.is_control(id))\n",
        "vocab_size = sp.vocab_size()\n",
        "print(f\"vocab_size={vocab_size}\")\n",
        "vocab = {sp.IdToPiece(i): i for i in range(sp.GetPieceSize())}"
      ],
      "metadata": {
        "colab": {
          "base_uri": "https://localhost:8080/"
        },
        "outputId": "edc858d7-c6a1-4f30-fbbd-3d45b5d6750c",
        "id": "A_HPxp5nOgX1"
      },
      "execution_count": null,
      "outputs": [
        {
          "output_type": "stream",
          "name": "stdout",
          "text": [
            "bos= 2\n",
            "eos= 3\n",
            "unk= 1\n",
            "pad= 0\n",
            "[PAD] True\n",
            "[UNK] False\n",
            "[BOS] True\n",
            "[EOS] True\n",
            "vocab_size=1000\n"
          ]
        }
      ]
    },
    {
      "cell_type": "code",
      "source": [
        "sp.id_to_piece(0), sp.id_to_piece(1), sp.id_to_piece(199), sp.id_to_piece(999), sp.decode_ids([999])"
      ],
      "metadata": {
        "colab": {
          "base_uri": "https://localhost:8080/"
        },
        "outputId": "598af219-0271-4457-e465-f47966eb2504",
        "id": "pdw1LiwjOgX3"
      },
      "execution_count": null,
      "outputs": [
        {
          "output_type": "execute_result",
          "data": {
            "text/plain": [
              "('[PAD]', '[UNK]', 'qu', '“', '“')"
            ]
          },
          "metadata": {},
          "execution_count": 114
        }
      ]
    },
    {
      "cell_type": "code",
      "source": [
        "\n",
        "# Encode as pieces\n",
        "print(sp.encode_as_pieces('THE CITY OF MONTREAL'))\n",
        "print(sp.encode_as_ids('THE CITY OF MONTREAL'))\n",
        "\n",
        "# Encode as ids\n",
        "print(sp.encode_as_pieces('ИЗ СТОРОНЫ В СТОРОНУ ОЩУЩЕНИЕ КОТОРОГО ОН НИКОГДА'))\n",
        "print(sp.encode_as_ids('ИЗ СТОРОНЫ В СТОРОНУ ОЩУЩЕНИЕ КОТОРОГО ОН НИКОГДА'))\n"
      ],
      "metadata": {
        "colab": {
          "base_uri": "https://localhost:8080/"
        },
        "outputId": "95911fe4-0b21-45df-de6b-62f41d755d3a",
        "id": "Xdw3682_OgX4"
      },
      "execution_count": null,
      "outputs": [
        {
          "output_type": "stream",
          "name": "stdout",
          "text": [
            "['▁', 'THE', '▁', 'CITY', '▁', 'OF', '▁', 'MONTREAL']\n",
            "[5, 1, 5, 1, 5, 1, 5, 1]\n",
            "['▁', 'ИЗ', '▁', 'СТОРОНЫ', '▁', 'В', '▁', 'СТОРОНУ', '▁', 'ОЩУЩЕНИЕ', '▁', 'КОТОРОГО', '▁', 'ОН', '▁', 'НИКОГДА']\n",
            "[5, 1, 5, 1, 5, 1, 5, 1, 5, 1, 5, 1, 5, 1, 5, 1]\n"
          ]
        }
      ]
    },
    {
      "cell_type": "code",
      "source": [
        "input_sequences = []\n",
        "for c, line in enumerate(medium_data['title']):\n",
        "    #token_list = tokenizer.texts_to_sequences([line])[0]\n",
        "    token_list = sp.encode_as_ids(line) #[0]\n",
        "    if c< 2: print(token_list)\n",
        "    \n",
        "    for i in range(1, len(token_list)):\n",
        "        n_gram_sequence = token_list[:i+1]\n",
        "        input_sequences.append(n_gram_sequence)\n",
        "\n",
        "    if c< 2: print(input_sequences)\n",
        "print(\"Total input sequences: \", len(input_sequences))"
      ],
      "metadata": {
        "execution": {
          "iopub.status.busy": "2022-05-31T14:51:58.383896Z",
          "iopub.execute_input": "2022-05-31T14:51:58.384218Z",
          "iopub.status.idle": "2022-05-31T14:51:58.503031Z",
          "shell.execute_reply.started": "2022-05-31T14:51:58.38419Z",
          "shell.execute_reply": "2022-05-31T14:51:58.501989Z"
        },
        "trusted": true,
        "colab": {
          "base_uri": "https://localhost:8080/"
        },
        "outputId": "79fdfa75-1c83-4eea-b908-c592adef6479",
        "id": "MttkZXTLOgX6"
      },
      "execution_count": null,
      "outputs": [
        {
          "output_type": "stream",
          "name": "stdout",
          "text": [
            "[9, 568, 18, 4, 213, 7, 459, 5, 129, 40, 49, 14, 8, 45, 456, 4, 28, 27, 459, 232, 117, 41, 241]\n",
            "[[9, 568], [9, 568, 18], [9, 568, 18, 4], [9, 568, 18, 4, 213], [9, 568, 18, 4, 213, 7], [9, 568, 18, 4, 213, 7, 459], [9, 568, 18, 4, 213, 7, 459, 5], [9, 568, 18, 4, 213, 7, 459, 5, 129], [9, 568, 18, 4, 213, 7, 459, 5, 129, 40], [9, 568, 18, 4, 213, 7, 459, 5, 129, 40, 49], [9, 568, 18, 4, 213, 7, 459, 5, 129, 40, 49, 14], [9, 568, 18, 4, 213, 7, 459, 5, 129, 40, 49, 14, 8], [9, 568, 18, 4, 213, 7, 459, 5, 129, 40, 49, 14, 8, 45], [9, 568, 18, 4, 213, 7, 459, 5, 129, 40, 49, 14, 8, 45, 456], [9, 568, 18, 4, 213, 7, 459, 5, 129, 40, 49, 14, 8, 45, 456, 4], [9, 568, 18, 4, 213, 7, 459, 5, 129, 40, 49, 14, 8, 45, 456, 4, 28], [9, 568, 18, 4, 213, 7, 459, 5, 129, 40, 49, 14, 8, 45, 456, 4, 28, 27], [9, 568, 18, 4, 213, 7, 459, 5, 129, 40, 49, 14, 8, 45, 456, 4, 28, 27, 459], [9, 568, 18, 4, 213, 7, 459, 5, 129, 40, 49, 14, 8, 45, 456, 4, 28, 27, 459, 232], [9, 568, 18, 4, 213, 7, 459, 5, 129, 40, 49, 14, 8, 45, 456, 4, 28, 27, 459, 232, 117], [9, 568, 18, 4, 213, 7, 459, 5, 129, 40, 49, 14, 8, 45, 456, 4, 28, 27, 459, 232, 117, 41], [9, 568, 18, 4, 213, 7, 459, 5, 129, 40, 49, 14, 8, 45, 456, 4, 28, 27, 459, 232, 117, 41, 241]]\n",
            "[588, 4, 36, 88, 5, 286, 29, 17, 261, 315, 45, 671, 168, 671, 104, 10, 272, 10, 11, 92, 41]\n",
            "[[9, 568], [9, 568, 18], [9, 568, 18, 4], [9, 568, 18, 4, 213], [9, 568, 18, 4, 213, 7], [9, 568, 18, 4, 213, 7, 459], [9, 568, 18, 4, 213, 7, 459, 5], [9, 568, 18, 4, 213, 7, 459, 5, 129], [9, 568, 18, 4, 213, 7, 459, 5, 129, 40], [9, 568, 18, 4, 213, 7, 459, 5, 129, 40, 49], [9, 568, 18, 4, 213, 7, 459, 5, 129, 40, 49, 14], [9, 568, 18, 4, 213, 7, 459, 5, 129, 40, 49, 14, 8], [9, 568, 18, 4, 213, 7, 459, 5, 129, 40, 49, 14, 8, 45], [9, 568, 18, 4, 213, 7, 459, 5, 129, 40, 49, 14, 8, 45, 456], [9, 568, 18, 4, 213, 7, 459, 5, 129, 40, 49, 14, 8, 45, 456, 4], [9, 568, 18, 4, 213, 7, 459, 5, 129, 40, 49, 14, 8, 45, 456, 4, 28], [9, 568, 18, 4, 213, 7, 459, 5, 129, 40, 49, 14, 8, 45, 456, 4, 28, 27], [9, 568, 18, 4, 213, 7, 459, 5, 129, 40, 49, 14, 8, 45, 456, 4, 28, 27, 459], [9, 568, 18, 4, 213, 7, 459, 5, 129, 40, 49, 14, 8, 45, 456, 4, 28, 27, 459, 232], [9, 568, 18, 4, 213, 7, 459, 5, 129, 40, 49, 14, 8, 45, 456, 4, 28, 27, 459, 232, 117], [9, 568, 18, 4, 213, 7, 459, 5, 129, 40, 49, 14, 8, 45, 456, 4, 28, 27, 459, 232, 117, 41], [9, 568, 18, 4, 213, 7, 459, 5, 129, 40, 49, 14, 8, 45, 456, 4, 28, 27, 459, 232, 117, 41, 241], [588, 4], [588, 4, 36], [588, 4, 36, 88], [588, 4, 36, 88, 5], [588, 4, 36, 88, 5, 286], [588, 4, 36, 88, 5, 286, 29], [588, 4, 36, 88, 5, 286, 29, 17], [588, 4, 36, 88, 5, 286, 29, 17, 261], [588, 4, 36, 88, 5, 286, 29, 17, 261, 315], [588, 4, 36, 88, 5, 286, 29, 17, 261, 315, 45], [588, 4, 36, 88, 5, 286, 29, 17, 261, 315, 45, 671], [588, 4, 36, 88, 5, 286, 29, 17, 261, 315, 45, 671, 168], [588, 4, 36, 88, 5, 286, 29, 17, 261, 315, 45, 671, 168, 671], [588, 4, 36, 88, 5, 286, 29, 17, 261, 315, 45, 671, 168, 671, 104], [588, 4, 36, 88, 5, 286, 29, 17, 261, 315, 45, 671, 168, 671, 104, 10], [588, 4, 36, 88, 5, 286, 29, 17, 261, 315, 45, 671, 168, 671, 104, 10, 272], [588, 4, 36, 88, 5, 286, 29, 17, 261, 315, 45, 671, 168, 671, 104, 10, 272, 10], [588, 4, 36, 88, 5, 286, 29, 17, 261, 315, 45, 671, 168, 671, 104, 10, 272, 10, 11], [588, 4, 36, 88, 5, 286, 29, 17, 261, 315, 45, 671, 168, 671, 104, 10, 272, 10, 11, 92], [588, 4, 36, 88, 5, 286, 29, 17, 261, 315, 45, 671, 168, 671, 104, 10, 272, 10, 11, 92, 41]]\n",
            "Total input sequences:  101121\n"
          ]
        }
      ]
    },
    {
      "cell_type": "code",
      "source": [
        "medium_data['title'][0]"
      ],
      "metadata": {
        "colab": {
          "base_uri": "https://localhost:8080/",
          "height": 35
        },
        "outputId": "b82dd632-c901-40f3-8cd2-9eaae550bf62",
        "id": "ET8LPm8wOgX6"
      },
      "execution_count": null,
      "outputs": [
        {
          "output_type": "execute_result",
          "data": {
            "text/plain": [
              "'a beginner’s guide to word embedding with gensim word2vec model'"
            ],
            "application/vnd.google.colaboratory.intrinsic+json": {
              "type": "string"
            }
          },
          "metadata": {},
          "execution_count": 117
        }
      ]
    },
    {
      "cell_type": "code",
      "source": [
        "# pad sequences \n",
        "max_sequence_len = max([len(x) for x in input_sequences])\n",
        "input_sequences = np.array(pad_sequences(input_sequences, maxlen=max_sequence_len, padding='pre'))\n",
        "print(input_sequences[1])\n",
        "print(max_sequence_len)"
      ],
      "metadata": {
        "execution": {
          "iopub.status.busy": "2022-05-31T14:52:45.447697Z",
          "iopub.execute_input": "2022-05-31T14:52:45.44805Z",
          "iopub.status.idle": "2022-05-31T14:52:45.661185Z",
          "shell.execute_reply.started": "2022-05-31T14:52:45.448018Z",
          "shell.execute_reply": "2022-05-31T14:52:45.660267Z"
        },
        "trusted": true,
        "colab": {
          "base_uri": "https://localhost:8080/"
        },
        "outputId": "52ad7dd1-b1d8-4442-9cf5-0f7d570b1fad",
        "id": "ploApO0BOgX6"
      },
      "execution_count": null,
      "outputs": [
        {
          "output_type": "stream",
          "name": "stdout",
          "text": [
            "[  0   0   0   0   0   0   0   0   0   0   0   0   0   0   0   0   0   0\n",
            "   0   0   0   0   0   0   0   0   0   0   0   0   0   0   0   0   0   0\n",
            "   0   0   0   0   0   0   0   0   0   0   0   0   0   0   0   0   0   0\n",
            "   0   0   0   0   0   0   0   0   0   0   0   0   0   0   0   0   0   0\n",
            "   0   0   0   0   0   0   0   0   0   0   0   0   0   0   0   0   0   0\n",
            "   0   0   0   0   0   0   0   0   0   0   0   0   0   0   0   0   0   0\n",
            "   0   0   0   0   0   0   0   0   0   0   0   0   0   0   0   0   0   0\n",
            "   0   0   0   0   0   0   0   0   0   0   0   0   0   0   0   0   0   0\n",
            "   0   0   0   0   0   0   0   0   0   0   0   0   0   0   0   0   0   9\n",
            " 568  18]\n",
            "164\n"
          ]
        }
      ]
    },
    {
      "cell_type": "code",
      "source": [
        ""
      ],
      "metadata": {
        "id": "qFf11q3tOgX6"
      },
      "execution_count": null,
      "outputs": []
    },
    {
      "cell_type": "markdown",
      "source": [
        "<a name=\"xy_2\"></a>\n",
        "## Prepare features and labels\n",
        "\n",
        "Here, we consider **last element of all sequences as a label**.Then,\n",
        "We need to perform **onehot encoding on labels corresponding to total_words.**"
      ],
      "metadata": {
        "id": "_nbk2RPXOgX6"
      }
    },
    {
      "cell_type": "code",
      "source": [
        "# create features and label\n",
        "xs, labels = input_sequences[:,:-1],input_sequences[:,-1]\n",
        "#ys = tf.keras.utils.to_categorical(labels, num_classes=total_words)\n",
        "ys = tf.keras.utils.to_categorical(labels, num_classes=vocab_size)"
      ],
      "metadata": {
        "execution": {
          "iopub.status.busy": "2022-05-31T14:53:19.555208Z",
          "iopub.execute_input": "2022-05-31T14:53:19.555609Z",
          "iopub.status.idle": "2022-05-31T14:53:19.703186Z",
          "shell.execute_reply.started": "2022-05-31T14:53:19.555575Z",
          "shell.execute_reply": "2022-05-31T14:53:19.702402Z"
        },
        "trusted": true,
        "id": "A4MU6GogOgX7"
      },
      "execution_count": null,
      "outputs": []
    },
    {
      "cell_type": "code",
      "source": [
        "print(xs[5])\n",
        "print(labels[5])\n",
        "print(ys[5][14])"
      ],
      "metadata": {
        "execution": {
          "iopub.status.busy": "2022-05-31T14:53:43.961489Z",
          "iopub.execute_input": "2022-05-31T14:53:43.961814Z",
          "iopub.status.idle": "2022-05-31T14:53:43.968709Z",
          "shell.execute_reply.started": "2022-05-31T14:53:43.961787Z",
          "shell.execute_reply": "2022-05-31T14:53:43.967634Z"
        },
        "trusted": true,
        "colab": {
          "base_uri": "https://localhost:8080/"
        },
        "outputId": "6c759830-397c-453e-d8b0-528c65047e4d",
        "id": "nELOPtS1OgX7"
      },
      "execution_count": null,
      "outputs": [
        {
          "output_type": "stream",
          "name": "stdout",
          "text": [
            "[  0   0   0   0   0   0   0   0   0   0   0   0   0   0   0   0   0   0\n",
            "   0   0   0   0   0   0   0   0   0   0   0   0   0   0   0   0   0   0\n",
            "   0   0   0   0   0   0   0   0   0   0   0   0   0   0   0   0   0   0\n",
            "   0   0   0   0   0   0   0   0   0   0   0   0   0   0   0   0   0   0\n",
            "   0   0   0   0   0   0   0   0   0   0   0   0   0   0   0   0   0   0\n",
            "   0   0   0   0   0   0   0   0   0   0   0   0   0   0   0   0   0   0\n",
            "   0   0   0   0   0   0   0   0   0   0   0   0   0   0   0   0   0   0\n",
            "   0   0   0   0   0   0   0   0   0   0   0   0   0   0   0   0   0   0\n",
            "   0   0   0   0   0   0   0   0   0   0   0   0   0   9 568  18   4 213\n",
            "   7]\n",
            "459\n",
            "0.0\n"
          ]
        }
      ]
    },
    {
      "cell_type": "code",
      "source": [
        "sp.id_to_piece(26),  sp.id_to_piece(777), sp.id_to_piece(13), sp.id_to_piece(4), sp.id_to_piece(133), sp.id_to_piece(5) "
      ],
      "metadata": {
        "colab": {
          "base_uri": "https://localhost:8080/"
        },
        "outputId": "9dd15a7d-f737-4fcb-888c-f1a6fa37a7c6",
        "id": "VuRTmiL2OgX7"
      },
      "execution_count": null,
      "outputs": [
        {
          "output_type": "execute_result",
          "data": {
            "text/plain": [
              "(':', '▁past', '▁in', 's', '▁work', '▁')"
            ]
          },
          "metadata": {},
          "execution_count": 121
        }
      ]
    },
    {
      "cell_type": "markdown",
      "source": [
        "<a name=\"train_2\"></a>\n",
        "## Bi- LSTM Neural Network Model training"
      ],
      "metadata": {
        "id": "lP1HO1rROgX7"
      }
    },
    {
      "cell_type": "markdown",
      "source": [
        "### p1 - fst 3 epochs"
      ],
      "metadata": {
        "id": "qNF6moqyOgX7"
      }
    },
    {
      "cell_type": "code",
      "source": [
        "model = Sequential()\n",
        "#model.add(Embedding(total_words, 100, input_length=max_sequence_len-1))\n",
        "model.add(Embedding(vocab_size, 100, input_length=max_sequence_len-1))\n",
        "model.add(Bidirectional(LSTM(150)))\n",
        "#model.add(Dense(total_words, activation='softmax'))\n",
        "model.add(Dense(vocab_size, activation='softmax'))\n",
        "#adam = Adam(lr=0.01)\n",
        "adam = Adam(learning_rate=0.01)\n",
        "model.compile(loss='categorical_crossentropy', optimizer=adam, metrics=['accuracy'])\n",
        "\n"
      ],
      "metadata": {
        "execution": {
          "iopub.status.busy": "2022-05-31T15:11:30.805813Z",
          "iopub.execute_input": "2022-05-31T15:11:30.806233Z",
          "iopub.status.idle": "2022-05-31T16:54:20.032727Z",
          "shell.execute_reply.started": "2022-05-31T15:11:30.806201Z",
          "shell.execute_reply": "2022-05-31T16:54:20.031645Z"
        },
        "trusted": true,
        "id": "G4WB1NMnOgX7"
      },
      "execution_count": null,
      "outputs": []
    },
    {
      "cell_type": "code",
      "source": [
        "history = model.fit(xs, ys, epochs=1, verbose=1)\n",
        "#print model.summary()\n",
        "#print(model)"
      ],
      "metadata": {
        "id": "z9Vb-0KkPkta"
      },
      "execution_count": null,
      "outputs": []
    },
    {
      "cell_type": "markdown",
      "source": [
        "```\n",
        " 43/3161 [..............................] - ETA: 27:05 - loss: 6.4714 - accuracy: 0.0371\n",
        " ```"
      ],
      "metadata": {
        "id": "HEM5Zktgdb_V"
      }
    }
  ]
}